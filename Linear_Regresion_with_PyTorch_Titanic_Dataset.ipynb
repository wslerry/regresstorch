{
  "nbformat": 4,
  "nbformat_minor": 0,
  "metadata": {
    "colab": {
      "name": "Linear Regresion with PyTorch - Titanic Dataset.ipynb",
      "provenance": [],
      "collapsed_sections": []
    },
    "kernelspec": {
      "name": "python3",
      "display_name": "Python 3"
    }
  },
  "cells": [
    {
      "cell_type": "markdown",
      "metadata": {
        "id": "8xGzlloM8dFx",
        "colab_type": "text"
      },
      "source": [
        "# **Linear Regresion with PyTorch**\n",
        "\n",
        "\n",
        "The dataset selected for this notebook is the Titanic dataset. \n",
        "\n",
        "This dataset has several information where each row represents one person. The columns describe different attributes about the person including whether they survived, their age, their passenger-class, their sex, and the fare they paid. Finally the dataset is devided in training and evaluation data.\n",
        "\n",
        "The training and evaluation data can be found in the following links:\n",
        "\n",
        "*   Training data: https://storage.googleapis.com/tf-datasets/titanic/train.csv\n",
        "*   Evaluation data: https://storage.googleapis.com/tf-datasets/titanic/eval.csv\n",
        "\n",
        "This notebook is focused in the prediction of wheather a passenger survived or not, and it is build based on the following steps:\n",
        "\n",
        "1.   Install depencies\n",
        "2.   Import modules\n",
        "3. Download and dataset analysis\n",
        "4. Preparing the dataset for training\n",
        "5. Creating a Linear Regression model\n",
        "6. Training the model and fitting the data\n",
        "7. Making predictions using the trained model\n",
        "8. Saving the model\n",
        "9. Commiting and uploading the notebook\n",
        "\n",
        "This notebook is based on the concepts from the first two lectures and as part of the Assignment 2 of the course Deep Learning with PyTorch, which you can find in the following links:\n",
        "\n",
        "* Assignment 2 - Linear Regression: [click here](https://jovian.ml/fabianac07/assingment-02-linear-regression)  \n",
        "* Lecture 1: [click here](https://www.youtube.com/watch?v=vo_fUOk-IKk&list=LLaHOyHOvwkyZZw6dTitN1Vw&index=2&t=443s)\n",
        "* Lecture 2: [click here](https://www.youtube.com/watch?v=4ZZrP68yXCI)\n",
        "* PyTorch basics: https://jovian.ml/aakashns/01-pytorch-basics\n",
        "* Linear Regression: https://jovian.ml/aakashns/02-linear-regression\n",
        "* Logistic Regression: https://jovian.ml/aakashns/03-logistic-regression\n",
        "* Linear regression (minimal): https://jovian.ml/aakashns/housing-linear-minimal\n",
        "* Logistic regression (minimal): https://jovian.ml/aakashns/mnist-logistic-minimal\n"
      ]
    },
    {
      "cell_type": "markdown",
      "metadata": {
        "id": "MwrkSEzk8z2B",
        "colab_type": "text"
      },
      "source": [
        "#### Step 1: Install dependencies"
      ]
    },
    {
      "cell_type": "code",
      "metadata": {
        "id": "ej8ERQzv8TUc",
        "colab_type": "code",
        "colab": {
          "base_uri": "https://localhost:8080/",
          "height": 51
        },
        "outputId": "3c8d89e9-dbdc-4e1b-e218-e6690b01f62b"
      },
      "source": [
        "# Uncomment and run the commands below if imports fail\n",
        "# !conda install numpy pytorch torchvision cpuonly -c pytorch -y\n",
        "# !pip install matplotlib --upgrade --quiet\n",
        "!pip install jovian --upgrade --quiet"
      ],
      "execution_count": 1,
      "outputs": [
        {
          "output_type": "stream",
          "text": [
            "\u001b[?25l\r\u001b[K     |████                            | 10kB 22.4MB/s eta 0:00:01\r\u001b[K     |███████▉                        | 20kB 1.8MB/s eta 0:00:01\r\u001b[K     |███████████▉                    | 30kB 2.4MB/s eta 0:00:01\r\u001b[K     |███████████████▊                | 40kB 2.6MB/s eta 0:00:01\r\u001b[K     |███████████████████▋            | 51kB 2.0MB/s eta 0:00:01\r\u001b[K     |███████████████████████▋        | 61kB 2.3MB/s eta 0:00:01\r\u001b[K     |███████████████████████████▌    | 71kB 2.6MB/s eta 0:00:01\r\u001b[K     |███████████████████████████████▍| 81kB 2.8MB/s eta 0:00:01\r\u001b[K     |████████████████████████████████| 92kB 2.4MB/s \n",
            "\u001b[?25h  Building wheel for uuid (setup.py) ... \u001b[?25l\u001b[?25hdone\n"
          ],
          "name": "stdout"
        }
      ]
    },
    {
      "cell_type": "markdown",
      "metadata": {
        "id": "dS1d0O4G9CC7",
        "colab_type": "text"
      },
      "source": [
        "#### Step 2: Import Modules"
      ]
    },
    {
      "cell_type": "code",
      "metadata": {
        "id": "x_MNkJHq8dnk",
        "colab_type": "code",
        "colab": {
          "base_uri": "https://localhost:8080/",
          "height": 71
        },
        "outputId": "12b54c55-2e4a-4d17-bf8b-6748d5768575"
      },
      "source": [
        "import torch\n",
        "import jovian\n",
        "import torchvision\n",
        "import torch.nn as nn\n",
        "import pandas as pd\n",
        "import matplotlib.pyplot as plt\n",
        "import seaborn as sns\n",
        "import torch.nn.functional as F\n",
        "from torchvision.datasets.utils import download_url\n",
        "from torch.utils.data import DataLoader, TensorDataset, random_split"
      ],
      "execution_count": 2,
      "outputs": [
        {
          "output_type": "stream",
          "text": [
            "/usr/local/lib/python3.6/dist-packages/statsmodels/tools/_testing.py:19: FutureWarning: pandas.util.testing is deprecated. Use the functions in the public API at pandas.testing instead.\n",
            "  import pandas.util.testing as tm\n"
          ],
          "name": "stderr"
        }
      ]
    },
    {
      "cell_type": "markdown",
      "metadata": {
        "id": "6eGH-4P89IoP",
        "colab_type": "text"
      },
      "source": [
        "#### Step 3: Download and Dataset Analysis \n",
        "\n",
        "To download the dataset the pandas `read_csv()` method is used. This method will download the dataset and turn it into a table. "
      ]
    },
    {
      "cell_type": "code",
      "metadata": {
        "id": "QdRx8TzxnjXy",
        "colab_type": "code",
        "colab": {}
      },
      "source": [
        "''' Load dataset '''\n",
        "dataset_training = pd.read_csv('https://storage.googleapis.com/tf-datasets/titanic/train.csv')\n",
        "dataset_testing = pd.read_csv('https://storage.googleapis.com/tf-datasets/titanic/eval.csv')"
      ],
      "execution_count": 0,
      "outputs": []
    },
    {
      "cell_type": "markdown",
      "metadata": {
        "id": "91DWz4giqe1Q",
        "colab_type": "text"
      },
      "source": [
        "It is possible to observe the data using pandas methods. \n",
        "The `.head()` method shows the first 5 items in the dataset."
      ]
    },
    {
      "cell_type": "code",
      "metadata": {
        "id": "6uSAEwWaqCT5",
        "colab_type": "code",
        "colab": {
          "base_uri": "https://localhost:8080/",
          "height": 204
        },
        "outputId": "9e13d63c-ce0f-4f1d-bce8-75dae93a6317"
      },
      "source": [
        "dataset_training.head()"
      ],
      "execution_count": 4,
      "outputs": [
        {
          "output_type": "execute_result",
          "data": {
            "text/html": [
              "<div>\n",
              "<style scoped>\n",
              "    .dataframe tbody tr th:only-of-type {\n",
              "        vertical-align: middle;\n",
              "    }\n",
              "\n",
              "    .dataframe tbody tr th {\n",
              "        vertical-align: top;\n",
              "    }\n",
              "\n",
              "    .dataframe thead th {\n",
              "        text-align: right;\n",
              "    }\n",
              "</style>\n",
              "<table border=\"1\" class=\"dataframe\">\n",
              "  <thead>\n",
              "    <tr style=\"text-align: right;\">\n",
              "      <th></th>\n",
              "      <th>survived</th>\n",
              "      <th>sex</th>\n",
              "      <th>age</th>\n",
              "      <th>n_siblings_spouses</th>\n",
              "      <th>parch</th>\n",
              "      <th>fare</th>\n",
              "      <th>class</th>\n",
              "      <th>deck</th>\n",
              "      <th>embark_town</th>\n",
              "      <th>alone</th>\n",
              "    </tr>\n",
              "  </thead>\n",
              "  <tbody>\n",
              "    <tr>\n",
              "      <th>0</th>\n",
              "      <td>0</td>\n",
              "      <td>male</td>\n",
              "      <td>22.0</td>\n",
              "      <td>1</td>\n",
              "      <td>0</td>\n",
              "      <td>7.2500</td>\n",
              "      <td>Third</td>\n",
              "      <td>unknown</td>\n",
              "      <td>Southampton</td>\n",
              "      <td>n</td>\n",
              "    </tr>\n",
              "    <tr>\n",
              "      <th>1</th>\n",
              "      <td>1</td>\n",
              "      <td>female</td>\n",
              "      <td>38.0</td>\n",
              "      <td>1</td>\n",
              "      <td>0</td>\n",
              "      <td>71.2833</td>\n",
              "      <td>First</td>\n",
              "      <td>C</td>\n",
              "      <td>Cherbourg</td>\n",
              "      <td>n</td>\n",
              "    </tr>\n",
              "    <tr>\n",
              "      <th>2</th>\n",
              "      <td>1</td>\n",
              "      <td>female</td>\n",
              "      <td>26.0</td>\n",
              "      <td>0</td>\n",
              "      <td>0</td>\n",
              "      <td>7.9250</td>\n",
              "      <td>Third</td>\n",
              "      <td>unknown</td>\n",
              "      <td>Southampton</td>\n",
              "      <td>y</td>\n",
              "    </tr>\n",
              "    <tr>\n",
              "      <th>3</th>\n",
              "      <td>1</td>\n",
              "      <td>female</td>\n",
              "      <td>35.0</td>\n",
              "      <td>1</td>\n",
              "      <td>0</td>\n",
              "      <td>53.1000</td>\n",
              "      <td>First</td>\n",
              "      <td>C</td>\n",
              "      <td>Southampton</td>\n",
              "      <td>n</td>\n",
              "    </tr>\n",
              "    <tr>\n",
              "      <th>4</th>\n",
              "      <td>0</td>\n",
              "      <td>male</td>\n",
              "      <td>28.0</td>\n",
              "      <td>0</td>\n",
              "      <td>0</td>\n",
              "      <td>8.4583</td>\n",
              "      <td>Third</td>\n",
              "      <td>unknown</td>\n",
              "      <td>Queenstown</td>\n",
              "      <td>y</td>\n",
              "    </tr>\n",
              "  </tbody>\n",
              "</table>\n",
              "</div>"
            ],
            "text/plain": [
              "   survived     sex   age  ...     deck  embark_town  alone\n",
              "0         0    male  22.0  ...  unknown  Southampton      n\n",
              "1         1  female  38.0  ...        C    Cherbourg      n\n",
              "2         1  female  26.0  ...  unknown  Southampton      y\n",
              "3         1  female  35.0  ...        C  Southampton      n\n",
              "4         0    male  28.0  ...  unknown   Queenstown      y\n",
              "\n",
              "[5 rows x 10 columns]"
            ]
          },
          "metadata": {
            "tags": []
          },
          "execution_count": 4
        }
      ]
    },
    {
      "cell_type": "code",
      "metadata": {
        "id": "q4HJFn_WqO0L",
        "colab_type": "code",
        "colab": {
          "base_uri": "https://localhost:8080/",
          "height": 204
        },
        "outputId": "7dfa9483-1bbe-4713-ce24-81d7719596ac"
      },
      "source": [
        "dataset_testing.head()"
      ],
      "execution_count": 5,
      "outputs": [
        {
          "output_type": "execute_result",
          "data": {
            "text/html": [
              "<div>\n",
              "<style scoped>\n",
              "    .dataframe tbody tr th:only-of-type {\n",
              "        vertical-align: middle;\n",
              "    }\n",
              "\n",
              "    .dataframe tbody tr th {\n",
              "        vertical-align: top;\n",
              "    }\n",
              "\n",
              "    .dataframe thead th {\n",
              "        text-align: right;\n",
              "    }\n",
              "</style>\n",
              "<table border=\"1\" class=\"dataframe\">\n",
              "  <thead>\n",
              "    <tr style=\"text-align: right;\">\n",
              "      <th></th>\n",
              "      <th>survived</th>\n",
              "      <th>sex</th>\n",
              "      <th>age</th>\n",
              "      <th>n_siblings_spouses</th>\n",
              "      <th>parch</th>\n",
              "      <th>fare</th>\n",
              "      <th>class</th>\n",
              "      <th>deck</th>\n",
              "      <th>embark_town</th>\n",
              "      <th>alone</th>\n",
              "    </tr>\n",
              "  </thead>\n",
              "  <tbody>\n",
              "    <tr>\n",
              "      <th>0</th>\n",
              "      <td>0</td>\n",
              "      <td>male</td>\n",
              "      <td>35.0</td>\n",
              "      <td>0</td>\n",
              "      <td>0</td>\n",
              "      <td>8.0500</td>\n",
              "      <td>Third</td>\n",
              "      <td>unknown</td>\n",
              "      <td>Southampton</td>\n",
              "      <td>y</td>\n",
              "    </tr>\n",
              "    <tr>\n",
              "      <th>1</th>\n",
              "      <td>0</td>\n",
              "      <td>male</td>\n",
              "      <td>54.0</td>\n",
              "      <td>0</td>\n",
              "      <td>0</td>\n",
              "      <td>51.8625</td>\n",
              "      <td>First</td>\n",
              "      <td>E</td>\n",
              "      <td>Southampton</td>\n",
              "      <td>y</td>\n",
              "    </tr>\n",
              "    <tr>\n",
              "      <th>2</th>\n",
              "      <td>1</td>\n",
              "      <td>female</td>\n",
              "      <td>58.0</td>\n",
              "      <td>0</td>\n",
              "      <td>0</td>\n",
              "      <td>26.5500</td>\n",
              "      <td>First</td>\n",
              "      <td>C</td>\n",
              "      <td>Southampton</td>\n",
              "      <td>y</td>\n",
              "    </tr>\n",
              "    <tr>\n",
              "      <th>3</th>\n",
              "      <td>1</td>\n",
              "      <td>female</td>\n",
              "      <td>55.0</td>\n",
              "      <td>0</td>\n",
              "      <td>0</td>\n",
              "      <td>16.0000</td>\n",
              "      <td>Second</td>\n",
              "      <td>unknown</td>\n",
              "      <td>Southampton</td>\n",
              "      <td>y</td>\n",
              "    </tr>\n",
              "    <tr>\n",
              "      <th>4</th>\n",
              "      <td>1</td>\n",
              "      <td>male</td>\n",
              "      <td>34.0</td>\n",
              "      <td>0</td>\n",
              "      <td>0</td>\n",
              "      <td>13.0000</td>\n",
              "      <td>Second</td>\n",
              "      <td>D</td>\n",
              "      <td>Southampton</td>\n",
              "      <td>y</td>\n",
              "    </tr>\n",
              "  </tbody>\n",
              "</table>\n",
              "</div>"
            ],
            "text/plain": [
              "   survived     sex   age  ...     deck  embark_town  alone\n",
              "0         0    male  35.0  ...  unknown  Southampton      y\n",
              "1         0    male  54.0  ...        E  Southampton      y\n",
              "2         1  female  58.0  ...        C  Southampton      y\n",
              "3         1  female  55.0  ...  unknown  Southampton      y\n",
              "4         1    male  34.0  ...        D  Southampton      y\n",
              "\n",
              "[5 rows x 10 columns]"
            ]
          },
          "metadata": {
            "tags": []
          },
          "execution_count": 5
        }
      ]
    },
    {
      "cell_type": "markdown",
      "metadata": {
        "id": "gr1ONqmErmFO",
        "colab_type": "text"
      },
      "source": [
        "The `.describe()` method shows an statistical analysis of the dataset."
      ]
    },
    {
      "cell_type": "code",
      "metadata": {
        "id": "8nI_jviZq1hR",
        "colab_type": "code",
        "colab": {
          "base_uri": "https://localhost:8080/",
          "height": 297
        },
        "outputId": "9f5ed6bc-ac6e-4e8e-f4de-c96342636d3e"
      },
      "source": [
        "dataset_training.describe()"
      ],
      "execution_count": 6,
      "outputs": [
        {
          "output_type": "execute_result",
          "data": {
            "text/html": [
              "<div>\n",
              "<style scoped>\n",
              "    .dataframe tbody tr th:only-of-type {\n",
              "        vertical-align: middle;\n",
              "    }\n",
              "\n",
              "    .dataframe tbody tr th {\n",
              "        vertical-align: top;\n",
              "    }\n",
              "\n",
              "    .dataframe thead th {\n",
              "        text-align: right;\n",
              "    }\n",
              "</style>\n",
              "<table border=\"1\" class=\"dataframe\">\n",
              "  <thead>\n",
              "    <tr style=\"text-align: right;\">\n",
              "      <th></th>\n",
              "      <th>survived</th>\n",
              "      <th>age</th>\n",
              "      <th>n_siblings_spouses</th>\n",
              "      <th>parch</th>\n",
              "      <th>fare</th>\n",
              "    </tr>\n",
              "  </thead>\n",
              "  <tbody>\n",
              "    <tr>\n",
              "      <th>count</th>\n",
              "      <td>627.000000</td>\n",
              "      <td>627.000000</td>\n",
              "      <td>627.000000</td>\n",
              "      <td>627.000000</td>\n",
              "      <td>627.000000</td>\n",
              "    </tr>\n",
              "    <tr>\n",
              "      <th>mean</th>\n",
              "      <td>0.387560</td>\n",
              "      <td>29.631308</td>\n",
              "      <td>0.545455</td>\n",
              "      <td>0.379585</td>\n",
              "      <td>34.385399</td>\n",
              "    </tr>\n",
              "    <tr>\n",
              "      <th>std</th>\n",
              "      <td>0.487582</td>\n",
              "      <td>12.511818</td>\n",
              "      <td>1.151090</td>\n",
              "      <td>0.792999</td>\n",
              "      <td>54.597730</td>\n",
              "    </tr>\n",
              "    <tr>\n",
              "      <th>min</th>\n",
              "      <td>0.000000</td>\n",
              "      <td>0.750000</td>\n",
              "      <td>0.000000</td>\n",
              "      <td>0.000000</td>\n",
              "      <td>0.000000</td>\n",
              "    </tr>\n",
              "    <tr>\n",
              "      <th>25%</th>\n",
              "      <td>0.000000</td>\n",
              "      <td>23.000000</td>\n",
              "      <td>0.000000</td>\n",
              "      <td>0.000000</td>\n",
              "      <td>7.895800</td>\n",
              "    </tr>\n",
              "    <tr>\n",
              "      <th>50%</th>\n",
              "      <td>0.000000</td>\n",
              "      <td>28.000000</td>\n",
              "      <td>0.000000</td>\n",
              "      <td>0.000000</td>\n",
              "      <td>15.045800</td>\n",
              "    </tr>\n",
              "    <tr>\n",
              "      <th>75%</th>\n",
              "      <td>1.000000</td>\n",
              "      <td>35.000000</td>\n",
              "      <td>1.000000</td>\n",
              "      <td>0.000000</td>\n",
              "      <td>31.387500</td>\n",
              "    </tr>\n",
              "    <tr>\n",
              "      <th>max</th>\n",
              "      <td>1.000000</td>\n",
              "      <td>80.000000</td>\n",
              "      <td>8.000000</td>\n",
              "      <td>5.000000</td>\n",
              "      <td>512.329200</td>\n",
              "    </tr>\n",
              "  </tbody>\n",
              "</table>\n",
              "</div>"
            ],
            "text/plain": [
              "         survived         age  n_siblings_spouses       parch        fare\n",
              "count  627.000000  627.000000          627.000000  627.000000  627.000000\n",
              "mean     0.387560   29.631308            0.545455    0.379585   34.385399\n",
              "std      0.487582   12.511818            1.151090    0.792999   54.597730\n",
              "min      0.000000    0.750000            0.000000    0.000000    0.000000\n",
              "25%      0.000000   23.000000            0.000000    0.000000    7.895800\n",
              "50%      0.000000   28.000000            0.000000    0.000000   15.045800\n",
              "75%      1.000000   35.000000            1.000000    0.000000   31.387500\n",
              "max      1.000000   80.000000            8.000000    5.000000  512.329200"
            ]
          },
          "metadata": {
            "tags": []
          },
          "execution_count": 6
        }
      ]
    },
    {
      "cell_type": "code",
      "metadata": {
        "id": "aJBiGj-UrvVk",
        "colab_type": "code",
        "colab": {
          "base_uri": "https://localhost:8080/",
          "height": 297
        },
        "outputId": "402155ac-f00e-491f-930f-eefe42e8bd9c"
      },
      "source": [
        "dataset_testing.describe()"
      ],
      "execution_count": 7,
      "outputs": [
        {
          "output_type": "execute_result",
          "data": {
            "text/html": [
              "<div>\n",
              "<style scoped>\n",
              "    .dataframe tbody tr th:only-of-type {\n",
              "        vertical-align: middle;\n",
              "    }\n",
              "\n",
              "    .dataframe tbody tr th {\n",
              "        vertical-align: top;\n",
              "    }\n",
              "\n",
              "    .dataframe thead th {\n",
              "        text-align: right;\n",
              "    }\n",
              "</style>\n",
              "<table border=\"1\" class=\"dataframe\">\n",
              "  <thead>\n",
              "    <tr style=\"text-align: right;\">\n",
              "      <th></th>\n",
              "      <th>survived</th>\n",
              "      <th>age</th>\n",
              "      <th>n_siblings_spouses</th>\n",
              "      <th>parch</th>\n",
              "      <th>fare</th>\n",
              "    </tr>\n",
              "  </thead>\n",
              "  <tbody>\n",
              "    <tr>\n",
              "      <th>count</th>\n",
              "      <td>264.000000</td>\n",
              "      <td>264.000000</td>\n",
              "      <td>264.000000</td>\n",
              "      <td>264.000000</td>\n",
              "      <td>264.000000</td>\n",
              "    </tr>\n",
              "    <tr>\n",
              "      <th>mean</th>\n",
              "      <td>0.375000</td>\n",
              "      <td>28.720985</td>\n",
              "      <td>0.469697</td>\n",
              "      <td>0.386364</td>\n",
              "      <td>27.023880</td>\n",
              "    </tr>\n",
              "    <tr>\n",
              "      <th>std</th>\n",
              "      <td>0.485042</td>\n",
              "      <td>14.157538</td>\n",
              "      <td>0.978393</td>\n",
              "      <td>0.837775</td>\n",
              "      <td>34.973108</td>\n",
              "    </tr>\n",
              "    <tr>\n",
              "      <th>min</th>\n",
              "      <td>0.000000</td>\n",
              "      <td>0.420000</td>\n",
              "      <td>0.000000</td>\n",
              "      <td>0.000000</td>\n",
              "      <td>0.000000</td>\n",
              "    </tr>\n",
              "    <tr>\n",
              "      <th>25%</th>\n",
              "      <td>0.000000</td>\n",
              "      <td>21.000000</td>\n",
              "      <td>0.000000</td>\n",
              "      <td>0.000000</td>\n",
              "      <td>7.925000</td>\n",
              "    </tr>\n",
              "    <tr>\n",
              "      <th>50%</th>\n",
              "      <td>0.000000</td>\n",
              "      <td>28.000000</td>\n",
              "      <td>0.000000</td>\n",
              "      <td>0.000000</td>\n",
              "      <td>13.250000</td>\n",
              "    </tr>\n",
              "    <tr>\n",
              "      <th>75%</th>\n",
              "      <td>1.000000</td>\n",
              "      <td>35.250000</td>\n",
              "      <td>1.000000</td>\n",
              "      <td>0.000000</td>\n",
              "      <td>27.900000</td>\n",
              "    </tr>\n",
              "    <tr>\n",
              "      <th>max</th>\n",
              "      <td>1.000000</td>\n",
              "      <td>74.000000</td>\n",
              "      <td>8.000000</td>\n",
              "      <td>6.000000</td>\n",
              "      <td>263.000000</td>\n",
              "    </tr>\n",
              "  </tbody>\n",
              "</table>\n",
              "</div>"
            ],
            "text/plain": [
              "         survived         age  n_siblings_spouses       parch        fare\n",
              "count  264.000000  264.000000          264.000000  264.000000  264.000000\n",
              "mean     0.375000   28.720985            0.469697    0.386364   27.023880\n",
              "std      0.485042   14.157538            0.978393    0.837775   34.973108\n",
              "min      0.000000    0.420000            0.000000    0.000000    0.000000\n",
              "25%      0.000000   21.000000            0.000000    0.000000    7.925000\n",
              "50%      0.000000   28.000000            0.000000    0.000000   13.250000\n",
              "75%      1.000000   35.250000            1.000000    0.000000   27.900000\n",
              "max      1.000000   74.000000            8.000000    6.000000  263.000000"
            ]
          },
          "metadata": {
            "tags": []
          },
          "execution_count": 7
        }
      ]
    },
    {
      "cell_type": "markdown",
      "metadata": {
        "id": "coqnHL_vsCS4",
        "colab_type": "text"
      },
      "source": [
        "Machine learning is all about data, for this reason is very important to know what kind and how many data is available. \n",
        "\n",
        "For this reason is important to answer the following questions:\n",
        "\n",
        "***Q: How many rows does the training dataset have?***"
      ]
    },
    {
      "cell_type": "code",
      "metadata": {
        "id": "d6-f_NMguTtG",
        "colab_type": "code",
        "colab": {
          "base_uri": "https://localhost:8080/",
          "height": 34
        },
        "outputId": "c520e4f2-1920-4d19-c261-a00d56adc182"
      },
      "source": [
        "num_rows = len(dataset_training.index)\n",
        "print('The number of rows on the training dataset is: ', num_rows)"
      ],
      "execution_count": 8,
      "outputs": [
        {
          "output_type": "stream",
          "text": [
            "The number of rows on the training dataset is:  627\n"
          ],
          "name": "stdout"
        }
      ]
    },
    {
      "cell_type": "markdown",
      "metadata": {
        "id": "BZKqFTSGrlCQ",
        "colab_type": "text"
      },
      "source": [
        "***Q: How many columns does the training dataset have?***"
      ]
    },
    {
      "cell_type": "code",
      "metadata": {
        "id": "GJnIygNpuUk3",
        "colab_type": "code",
        "colab": {
          "base_uri": "https://localhost:8080/",
          "height": 34
        },
        "outputId": "07c38335-8c1d-4925-b721-151fdb2d6493"
      },
      "source": [
        "num_cols = len(dataset_training.columns)\n",
        "print('The number of columns on the training dataset is: ', num_cols)"
      ],
      "execution_count": 9,
      "outputs": [
        {
          "output_type": "stream",
          "text": [
            "The number of columns on the training dataset is:  10\n"
          ],
          "name": "stdout"
        }
      ]
    },
    {
      "cell_type": "markdown",
      "metadata": {
        "id": "o1Zyv8VltsnC",
        "colab_type": "text"
      },
      "source": [
        "***Q: What are the column titles of the input variables?***"
      ]
    },
    {
      "cell_type": "code",
      "metadata": {
        "id": "qCQ6vC4IuVty",
        "colab_type": "code",
        "colab": {
          "base_uri": "https://localhost:8080/",
          "height": 68
        },
        "outputId": "3cd74c1b-5ac5-4e32-bc49-c714d7bc04a1"
      },
      "source": [
        "input_cols = dataset_testing.columns.values[1:]\n",
        "print('The columns titles of the input variables on the testing dataset are: ')\n",
        "print(input_cols)"
      ],
      "execution_count": 10,
      "outputs": [
        {
          "output_type": "stream",
          "text": [
            "The columns titles of the input variables on the testing dataset are: \n",
            "['sex' 'age' 'n_siblings_spouses' 'parch' 'fare' 'class' 'deck'\n",
            " 'embark_town' 'alone']\n"
          ],
          "name": "stdout"
        }
      ]
    },
    {
      "cell_type": "markdown",
      "metadata": {
        "id": "9JDq1Kstt4TU",
        "colab_type": "text"
      },
      "source": [
        "***Q: What is the column title of the output/target variable in the training dataset?***\n",
        "\n",
        "---\n",
        "\n"
      ]
    },
    {
      "cell_type": "code",
      "metadata": {
        "id": "hv45V28yuWbu",
        "colab_type": "code",
        "colab": {
          "base_uri": "https://localhost:8080/",
          "height": 34
        },
        "outputId": "8349a7c6-cce0-4979-eb85-304eb71ded0f"
      },
      "source": [
        "output_cols = dataset_training.columns.values[:1]\n",
        "print('The target column title on the training dataset is: ', output_cols)"
      ],
      "execution_count": 11,
      "outputs": [
        {
          "output_type": "stream",
          "text": [
            "The target column title on the training dataset is:  ['survived']\n"
          ],
          "name": "stdout"
        }
      ]
    },
    {
      "cell_type": "markdown",
      "metadata": {
        "id": "n4k6MIfCuASV",
        "colab_type": "text"
      },
      "source": [
        "***Q: Which of the input columns are categorical (on-numerical variables) in the training dataset?***"
      ]
    },
    {
      "cell_type": "code",
      "metadata": {
        "id": "BhCYs1XpuXSo",
        "colab_type": "code",
        "colab": {
          "base_uri": "https://localhost:8080/",
          "height": 51
        },
        "outputId": "f4df9d27-aba4-4cf7-9218-315ed25bcf01"
      },
      "source": [
        "categorical_cols = dataset_training.select_dtypes(include=object).columns.values\n",
        "print('The non-numerical columns in the training dataset are: ')\n",
        "print(categorical_cols)"
      ],
      "execution_count": 12,
      "outputs": [
        {
          "output_type": "stream",
          "text": [
            "The non-numerical columns in the training dataset are: \n",
            "['sex' 'class' 'deck' 'embark_town' 'alone']\n"
          ],
          "name": "stdout"
        }
      ]
    },
    {
      "cell_type": "markdown",
      "metadata": {
        "id": "Wx5VTweUxNJT",
        "colab_type": "text"
      },
      "source": [
        "***Q: How would you plot the distributions of survivors and age of the passengers?***"
      ]
    },
    {
      "cell_type": "code",
      "metadata": {
        "id": "GpP6KWG3xH5d",
        "colab_type": "code",
        "colab": {
          "base_uri": "https://localhost:8080/",
          "height": 295
        },
        "outputId": "c9788a23-dbc9-4046-d229-4da2b5700d80"
      },
      "source": [
        "sns.set_style('darkgrid')\n",
        "plt.title('Distribution of survivors among passenges in training dataset')\n",
        "sns.distplot(dataset_training.survived, bins=2, kde=False);"
      ],
      "execution_count": 13,
      "outputs": [
        {
          "output_type": "display_data",
          "data": {
            "image/png": "[encoded data removed]",
            "text/plain": [
              "<Figure size 432x288 with 1 Axes>"
            ]
          },
          "metadata": {
            "tags": []
          }
        }
      ]
    },
    {
      "cell_type": "code",
      "metadata": {
        "id": "ulyz4s5sxrof",
        "colab_type": "code",
        "colab": {
          "base_uri": "https://localhost:8080/",
          "height": 295
        },
        "outputId": "d377cbaa-9dd9-4591-ad47-988d3e25ca46"
      },
      "source": [
        "sns.set_style('darkgrid')\n",
        "plt.title('Distribution of age among passenges in training dataset')\n",
        "sns.distplot(dataset_training.age, bins=20, kde=False);"
      ],
      "execution_count": 14,
      "outputs": [
        {
          "output_type": "display_data",
          "data": {
            "image/png": "[encoded data removed]",
            "text/plain": [
              "<Figure size 432x288 with 1 Axes>"
            ]
          },
          "metadata": {
            "tags": []
          }
        }
      ]
    },
    {
      "cell_type": "markdown",
      "metadata": {
        "id": "E3Cq_xDp51k6",
        "colab_type": "text"
      },
      "source": [
        "#### Step 4: Preparing the Dataset for Training\n",
        "\n",
        "By this point it was observed that the data has been handle in Pandas form. To process the training data, it has to be converted into PyTorch tensors. \n",
        "\n",
        "To do so, it is necessary to convert it to numpy arrayas, and the following function will do that for us:\n",
        "\n",
        "*To understand how tha categorical data is converted into numbers refer to [Pandas documentation](https://pandas.pydata.org/pandas-docs/stable/user_guide/categorical.html).*"
      ]
    },
    {
      "cell_type": "code",
      "metadata": {
        "id": "euAR5g545bpw",
        "colab_type": "code",
        "colab": {}
      },
      "source": [
        "def dataframe_to_arrays(dataframe):\n",
        "    # Make a copy of the original dataframe\n",
        "    dataframe1 = dataframe.copy(deep=True)\n",
        "    # Convert non-numeric categorical columns to numbers\n",
        "    for col in categorical_cols:\n",
        "        dataframe1[col] = dataframe1[col].astype('category').cat.codes\n",
        "    # Extract input & outupts as numpy arrays\n",
        "    inputs_array = dataframe1[input_cols].to_numpy()\n",
        "    targets_array = dataframe1[output_cols].to_numpy()\n",
        "    return inputs_array, targets_array"
      ],
      "execution_count": 0,
      "outputs": []
    },
    {
      "cell_type": "markdown",
      "metadata": {
        "id": "xVSC68947ijs",
        "colab_type": "text"
      },
      "source": [
        "Now it is just a matter to pass trough the `dataframe_to_arrays` function the training dataset."
      ]
    },
    {
      "cell_type": "code",
      "metadata": {
        "id": "8vl6ZZb07uaP",
        "colab_type": "code",
        "colab": {
          "base_uri": "https://localhost:8080/",
          "height": 1000
        },
        "outputId": "ce16a76a-bfbd-4482-896c-973dd9fda5b2"
      },
      "source": [
        "inputs_array_training, targets_array_training = dataframe_to_arrays(dataset_training)\n",
        "print(inputs_array_training)\n",
        "print(targets_array_training)"
      ],
      "execution_count": 16,
      "outputs": [
        {
          "output_type": "stream",
          "text": [
            "[[ 1. 22.  1. ...  7.  2.  0.]\n",
            " [ 0. 38.  1. ...  2.  0.  0.]\n",
            " [ 0. 26.  0. ...  7.  2.  1.]\n",
            " ...\n",
            " [ 0. 19.  0. ...  1.  2.  1.]\n",
            " [ 0. 28.  1. ...  7.  2.  0.]\n",
            " [ 1. 32.  0. ...  7.  1.  1.]]\n",
            "[[0]\n",
            " [1]\n",
            " [1]\n",
            " [1]\n",
            " [0]\n",
            " [0]\n",
            " [1]\n",
            " [1]\n",
            " [1]\n",
            " [0]\n",
            " [0]\n",
            " [0]\n",
            " [0]\n",
            " [1]\n",
            " [0]\n",
            " [1]\n",
            " [0]\n",
            " [1]\n",
            " [1]\n",
            " [0]\n",
            " [0]\n",
            " [1]\n",
            " [0]\n",
            " [0]\n",
            " [1]\n",
            " [1]\n",
            " [0]\n",
            " [0]\n",
            " [0]\n",
            " [1]\n",
            " [1]\n",
            " [0]\n",
            " [0]\n",
            " [0]\n",
            " [1]\n",
            " [0]\n",
            " [0]\n",
            " [0]\n",
            " [0]\n",
            " [0]\n",
            " [1]\n",
            " [1]\n",
            " [0]\n",
            " [1]\n",
            " [1]\n",
            " [0]\n",
            " [0]\n",
            " [0]\n",
            " [1]\n",
            " [0]\n",
            " [0]\n",
            " [1]\n",
            " [0]\n",
            " [1]\n",
            " [0]\n",
            " [0]\n",
            " [0]\n",
            " [1]\n",
            " [0]\n",
            " [0]\n",
            " [0]\n",
            " [1]\n",
            " [1]\n",
            " [0]\n",
            " [1]\n",
            " [1]\n",
            " [0]\n",
            " [0]\n",
            " [0]\n",
            " [1]\n",
            " [0]\n",
            " [0]\n",
            " [0]\n",
            " [0]\n",
            " [0]\n",
            " [1]\n",
            " [1]\n",
            " [0]\n",
            " [0]\n",
            " [0]\n",
            " [0]\n",
            " [0]\n",
            " [0]\n",
            " [0]\n",
            " [1]\n",
            " [1]\n",
            " [0]\n",
            " [0]\n",
            " [0]\n",
            " [0]\n",
            " [0]\n",
            " [0]\n",
            " [0]\n",
            " [0]\n",
            " [0]\n",
            " [0]\n",
            " [1]\n",
            " [0]\n",
            " [1]\n",
            " [0]\n",
            " [0]\n",
            " [0]\n",
            " [0]\n",
            " [1]\n",
            " [0]\n",
            " [0]\n",
            " [0]\n",
            " [0]\n",
            " [1]\n",
            " [0]\n",
            " [0]\n",
            " [0]\n",
            " [0]\n",
            " [0]\n",
            " [0]\n",
            " [0]\n",
            " [0]\n",
            " [1]\n",
            " [0]\n",
            " [0]\n",
            " [0]\n",
            " [0]\n",
            " [0]\n",
            " [0]\n",
            " [1]\n",
            " [0]\n",
            " [0]\n",
            " [0]\n",
            " [0]\n",
            " [0]\n",
            " [0]\n",
            " [0]\n",
            " [0]\n",
            " [0]\n",
            " [0]\n",
            " [1]\n",
            " [1]\n",
            " [1]\n",
            " [0]\n",
            " [1]\n",
            " [1]\n",
            " [1]\n",
            " [1]\n",
            " [1]\n",
            " [0]\n",
            " [1]\n",
            " [0]\n",
            " [0]\n",
            " [0]\n",
            " [0]\n",
            " [0]\n",
            " [0]\n",
            " [1]\n",
            " [1]\n",
            " [1]\n",
            " [1]\n",
            " [0]\n",
            " [0]\n",
            " [1]\n",
            " [1]\n",
            " [0]\n",
            " [0]\n",
            " [1]\n",
            " [0]\n",
            " [0]\n",
            " [1]\n",
            " [0]\n",
            " [0]\n",
            " [0]\n",
            " [1]\n",
            " [0]\n",
            " [0]\n",
            " [0]\n",
            " [0]\n",
            " [0]\n",
            " [0]\n",
            " [0]\n",
            " [1]\n",
            " [0]\n",
            " [0]\n",
            " [0]\n",
            " [1]\n",
            " [0]\n",
            " [0]\n",
            " [0]\n",
            " [0]\n",
            " [1]\n",
            " [1]\n",
            " [1]\n",
            " [0]\n",
            " [1]\n",
            " [0]\n",
            " [0]\n",
            " [0]\n",
            " [0]\n",
            " [1]\n",
            " [1]\n",
            " [1]\n",
            " [0]\n",
            " [1]\n",
            " [1]\n",
            " [0]\n",
            " [1]\n",
            " [1]\n",
            " [0]\n",
            " [0]\n",
            " [0]\n",
            " [1]\n",
            " [0]\n",
            " [0]\n",
            " [0]\n",
            " [1]\n",
            " [0]\n",
            " [0]\n",
            " [1]\n",
            " [1]\n",
            " [1]\n",
            " [0]\n",
            " [1]\n",
            " [0]\n",
            " [1]\n",
            " [1]\n",
            " [0]\n",
            " [1]\n",
            " [1]\n",
            " [1]\n",
            " [0]\n",
            " [0]\n",
            " [0]\n",
            " [1]\n",
            " [1]\n",
            " [1]\n",
            " [0]\n",
            " [0]\n",
            " [1]\n",
            " [0]\n",
            " [1]\n",
            " [0]\n",
            " [1]\n",
            " [1]\n",
            " [0]\n",
            " [1]\n",
            " [0]\n",
            " [0]\n",
            " [1]\n",
            " [0]\n",
            " [0]\n",
            " [0]\n",
            " [0]\n",
            " [1]\n",
            " [1]\n",
            " [1]\n",
            " [0]\n",
            " [0]\n",
            " [0]\n",
            " [0]\n",
            " [1]\n",
            " [0]\n",
            " [1]\n",
            " [1]\n",
            " [0]\n",
            " [0]\n",
            " [0]\n",
            " [0]\n",
            " [0]\n",
            " [1]\n",
            " [1]\n",
            " [1]\n",
            " [1]\n",
            " [0]\n",
            " [0]\n",
            " [1]\n",
            " [0]\n",
            " [0]\n",
            " [1]\n",
            " [0]\n",
            " [0]\n",
            " [0]\n",
            " [0]\n",
            " [0]\n",
            " [1]\n",
            " [1]\n",
            " [1]\n",
            " [1]\n",
            " [1]\n",
            " [0]\n",
            " [0]\n",
            " [0]\n",
            " [0]\n",
            " [1]\n",
            " [0]\n",
            " [0]\n",
            " [0]\n",
            " [1]\n",
            " [0]\n",
            " [0]\n",
            " [0]\n",
            " [0]\n",
            " [0]\n",
            " [1]\n",
            " [0]\n",
            " [1]\n",
            " [1]\n",
            " [0]\n",
            " [0]\n",
            " [0]\n",
            " [0]\n",
            " [1]\n",
            " [0]\n",
            " [1]\n",
            " [1]\n",
            " [1]\n",
            " [1]\n",
            " [0]\n",
            " [0]\n",
            " [1]\n",
            " [1]\n",
            " [0]\n",
            " [0]\n",
            " [1]\n",
            " [0]\n",
            " [1]\n",
            " [1]\n",
            " [1]\n",
            " [1]\n",
            " [1]\n",
            " [0]\n",
            " [0]\n",
            " [1]\n",
            " [1]\n",
            " [0]\n",
            " [1]\n",
            " [1]\n",
            " [0]\n",
            " [0]\n",
            " [0]\n",
            " [0]\n",
            " [0]\n",
            " [0]\n",
            " [1]\n",
            " [0]\n",
            " [1]\n",
            " [1]\n",
            " [0]\n",
            " [0]\n",
            " [0]\n",
            " [1]\n",
            " [0]\n",
            " [0]\n",
            " [1]\n",
            " [1]\n",
            " [0]\n",
            " [1]\n",
            " [0]\n",
            " [1]\n",
            " [0]\n",
            " [0]\n",
            " [0]\n",
            " [0]\n",
            " [0]\n",
            " [0]\n",
            " [0]\n",
            " [0]\n",
            " [1]\n",
            " [1]\n",
            " [1]\n",
            " [1]\n",
            " [0]\n",
            " [0]\n",
            " [1]\n",
            " [1]\n",
            " [0]\n",
            " [1]\n",
            " [0]\n",
            " [1]\n",
            " [0]\n",
            " [0]\n",
            " [1]\n",
            " [0]\n",
            " [0]\n",
            " [1]\n",
            " [0]\n",
            " [1]\n",
            " [0]\n",
            " [1]\n",
            " [0]\n",
            " [1]\n",
            " [1]\n",
            " [1]\n",
            " [0]\n",
            " [0]\n",
            " [0]\n",
            " [1]\n",
            " [1]\n",
            " [0]\n",
            " [1]\n",
            " [0]\n",
            " [0]\n",
            " [1]\n",
            " [1]\n",
            " [0]\n",
            " [1]\n",
            " [1]\n",
            " [0]\n",
            " [0]\n",
            " [0]\n",
            " [0]\n",
            " [0]\n",
            " [0]\n",
            " [1]\n",
            " [1]\n",
            " [1]\n",
            " [1]\n",
            " [0]\n",
            " [1]\n",
            " [1]\n",
            " [0]\n",
            " [0]\n",
            " [1]\n",
            " [0]\n",
            " [0]\n",
            " [1]\n",
            " [0]\n",
            " [0]\n",
            " [0]\n",
            " [0]\n",
            " [1]\n",
            " [0]\n",
            " [0]\n",
            " [1]\n",
            " [1]\n",
            " [0]\n",
            " [0]\n",
            " [1]\n",
            " [1]\n",
            " [1]\n",
            " [0]\n",
            " [0]\n",
            " [1]\n",
            " [0]\n",
            " [1]\n",
            " [0]\n",
            " [0]\n",
            " [1]\n",
            " [0]\n",
            " [0]\n",
            " [1]\n",
            " [0]\n",
            " [0]\n",
            " [1]\n",
            " [0]\n",
            " [1]\n",
            " [0]\n",
            " [1]\n",
            " [0]\n",
            " [0]\n",
            " [0]\n",
            " [0]\n",
            " [1]\n",
            " [1]\n",
            " [1]\n",
            " [0]\n",
            " [1]\n",
            " [0]\n",
            " [1]\n",
            " [0]\n",
            " [0]\n",
            " [0]\n",
            " [0]\n",
            " [1]\n",
            " [0]\n",
            " [0]\n",
            " [1]\n",
            " [0]\n",
            " [0]\n",
            " [0]\n",
            " [1]\n",
            " [0]\n",
            " [1]\n",
            " [0]\n",
            " [0]\n",
            " [1]\n",
            " [1]\n",
            " [1]\n",
            " [0]\n",
            " [0]\n",
            " [0]\n",
            " [0]\n",
            " [0]\n",
            " [1]\n",
            " [1]\n",
            " [1]\n",
            " [1]\n",
            " [0]\n",
            " [1]\n",
            " [0]\n",
            " [1]\n",
            " [0]\n",
            " [0]\n",
            " [1]\n",
            " [1]\n",
            " [1]\n",
            " [0]\n",
            " [1]\n",
            " [0]\n",
            " [0]\n",
            " [1]\n",
            " [1]\n",
            " [0]\n",
            " [0]\n",
            " [1]\n",
            " [0]\n",
            " [1]\n",
            " [1]\n",
            " [0]\n",
            " [0]\n",
            " [1]\n",
            " [0]\n",
            " [0]\n",
            " [0]\n",
            " [0]\n",
            " [1]\n",
            " [0]\n",
            " [0]\n",
            " [0]\n",
            " [1]\n",
            " [0]\n",
            " [0]\n",
            " [1]\n",
            " [1]\n",
            " [0]\n",
            " [0]\n",
            " [1]\n",
            " [0]\n",
            " [0]\n",
            " [0]\n",
            " [0]\n",
            " [1]\n",
            " [1]\n",
            " [0]\n",
            " [0]\n",
            " [0]\n",
            " [0]\n",
            " [0]\n",
            " [0]\n",
            " [0]\n",
            " [1]\n",
            " [1]\n",
            " [0]\n",
            " [0]\n",
            " [0]\n",
            " [1]\n",
            " [0]\n",
            " [0]\n",
            " [0]\n",
            " [0]\n",
            " [0]\n",
            " [0]\n",
            " [0]\n",
            " [1]\n",
            " [1]\n",
            " [0]\n",
            " [0]\n",
            " [0]\n",
            " [1]\n",
            " [1]\n",
            " [0]\n",
            " [0]\n",
            " [0]\n",
            " [1]\n",
            " [0]\n",
            " [0]\n",
            " [0]\n",
            " [0]\n",
            " [0]\n",
            " [0]\n",
            " [0]\n",
            " [0]\n",
            " [1]\n",
            " [1]\n",
            " [0]\n",
            " [0]\n",
            " [0]\n",
            " [1]\n",
            " [1]\n",
            " [0]\n",
            " [0]\n",
            " [0]\n",
            " [1]\n",
            " [0]\n",
            " [0]\n",
            " [1]\n",
            " [0]\n",
            " [1]\n",
            " [0]\n",
            " [0]\n",
            " [0]\n",
            " [0]\n",
            " [0]\n",
            " [1]\n",
            " [0]\n",
            " [1]\n",
            " [1]\n",
            " [1]\n",
            " [1]\n",
            " [1]\n",
            " [0]\n",
            " [0]\n",
            " [1]\n",
            " [1]\n",
            " [0]\n",
            " [1]\n",
            " [0]\n",
            " [1]\n",
            " [0]\n",
            " [0]\n",
            " [1]\n",
            " [1]\n",
            " [0]\n",
            " [0]\n",
            " [0]\n",
            " [0]\n",
            " [0]\n",
            " [0]\n",
            " [1]\n",
            " [0]\n",
            " [0]]\n"
          ],
          "name": "stdout"
        }
      ]
    },
    {
      "cell_type": "code",
      "metadata": {
        "id": "GDSqLP1gBo7k",
        "colab_type": "code",
        "colab": {
          "base_uri": "https://localhost:8080/",
          "height": 1000
        },
        "outputId": "b3fce48e-ad9b-41da-86f6-31aeee24a4d3"
      },
      "source": [
        "inputs_array_testing, targets_array_testing = dataframe_to_arrays(dataset_testing)\n",
        "print(inputs_array_testing)\n",
        "print(targets_array_testing)"
      ],
      "execution_count": 17,
      "outputs": [
        {
          "output_type": "stream",
          "text": [
            "[[ 1. 35.  0. ...  6.  2.  1.]\n",
            " [ 1. 54.  0. ...  4.  2.  1.]\n",
            " [ 0. 58.  0. ...  2.  2.  1.]\n",
            " ...\n",
            " [ 0. 39.  0. ...  6.  1.  0.]\n",
            " [ 1. 27.  0. ...  6.  2.  1.]\n",
            " [ 1. 26.  0. ...  2.  0.  1.]]\n",
            "[[0]\n",
            " [0]\n",
            " [1]\n",
            " [1]\n",
            " [1]\n",
            " [1]\n",
            " [0]\n",
            " [0]\n",
            " [0]\n",
            " [1]\n",
            " [1]\n",
            " [0]\n",
            " [1]\n",
            " [0]\n",
            " [1]\n",
            " [0]\n",
            " [0]\n",
            " [1]\n",
            " [1]\n",
            " [0]\n",
            " [0]\n",
            " [0]\n",
            " [1]\n",
            " [0]\n",
            " [0]\n",
            " [0]\n",
            " [0]\n",
            " [0]\n",
            " [1]\n",
            " [1]\n",
            " [0]\n",
            " [1]\n",
            " [0]\n",
            " [1]\n",
            " [0]\n",
            " [1]\n",
            " [0]\n",
            " [0]\n",
            " [1]\n",
            " [0]\n",
            " [1]\n",
            " [1]\n",
            " [0]\n",
            " [0]\n",
            " [0]\n",
            " [1]\n",
            " [0]\n",
            " [0]\n",
            " [1]\n",
            " [0]\n",
            " [0]\n",
            " [0]\n",
            " [0]\n",
            " [0]\n",
            " [1]\n",
            " [0]\n",
            " [0]\n",
            " [1]\n",
            " [0]\n",
            " [0]\n",
            " [1]\n",
            " [1]\n",
            " [0]\n",
            " [1]\n",
            " [0]\n",
            " [0]\n",
            " [1]\n",
            " [0]\n",
            " [0]\n",
            " [1]\n",
            " [1]\n",
            " [0]\n",
            " [0]\n",
            " [1]\n",
            " [0]\n",
            " [1]\n",
            " [0]\n",
            " [1]\n",
            " [1]\n",
            " [1]\n",
            " [0]\n",
            " [0]\n",
            " [0]\n",
            " [0]\n",
            " [1]\n",
            " [1]\n",
            " [1]\n",
            " [0]\n",
            " [1]\n",
            " [1]\n",
            " [1]\n",
            " [0]\n",
            " [0]\n",
            " [1]\n",
            " [1]\n",
            " [1]\n",
            " [1]\n",
            " [0]\n",
            " [0]\n",
            " [0]\n",
            " [0]\n",
            " [1]\n",
            " [0]\n",
            " [0]\n",
            " [1]\n",
            " [0]\n",
            " [1]\n",
            " [1]\n",
            " [1]\n",
            " [0]\n",
            " [1]\n",
            " [0]\n",
            " [0]\n",
            " [0]\n",
            " [1]\n",
            " [0]\n",
            " [0]\n",
            " [0]\n",
            " [0]\n",
            " [1]\n",
            " [0]\n",
            " [0]\n",
            " [1]\n",
            " [1]\n",
            " [0]\n",
            " [0]\n",
            " [1]\n",
            " [0]\n",
            " [0]\n",
            " [0]\n",
            " [0]\n",
            " [0]\n",
            " [0]\n",
            " [0]\n",
            " [0]\n",
            " [0]\n",
            " [0]\n",
            " [0]\n",
            " [1]\n",
            " [0]\n",
            " [0]\n",
            " [0]\n",
            " [1]\n",
            " [0]\n",
            " [1]\n",
            " [0]\n",
            " [1]\n",
            " [0]\n",
            " [0]\n",
            " [0]\n",
            " [0]\n",
            " [0]\n",
            " [1]\n",
            " [0]\n",
            " [1]\n",
            " [1]\n",
            " [0]\n",
            " [0]\n",
            " [0]\n",
            " [0]\n",
            " [1]\n",
            " [0]\n",
            " [1]\n",
            " [0]\n",
            " [1]\n",
            " [1]\n",
            " [0]\n",
            " [0]\n",
            " [1]\n",
            " [0]\n",
            " [1]\n",
            " [0]\n",
            " [0]\n",
            " [0]\n",
            " [0]\n",
            " [0]\n",
            " [1]\n",
            " [0]\n",
            " [1]\n",
            " [0]\n",
            " [0]\n",
            " [0]\n",
            " [0]\n",
            " [1]\n",
            " [0]\n",
            " [0]\n",
            " [1]\n",
            " [1]\n",
            " [0]\n",
            " [0]\n",
            " [0]\n",
            " [0]\n",
            " [0]\n",
            " [1]\n",
            " [0]\n",
            " [0]\n",
            " [0]\n",
            " [0]\n",
            " [0]\n",
            " [0]\n",
            " [0]\n",
            " [0]\n",
            " [0]\n",
            " [0]\n",
            " [1]\n",
            " [0]\n",
            " [0]\n",
            " [1]\n",
            " [1]\n",
            " [0]\n",
            " [0]\n",
            " [0]\n",
            " [0]\n",
            " [1]\n",
            " [0]\n",
            " [0]\n",
            " [1]\n",
            " [1]\n",
            " [0]\n",
            " [1]\n",
            " [0]\n",
            " [0]\n",
            " [1]\n",
            " [0]\n",
            " [1]\n",
            " [1]\n",
            " [0]\n",
            " [0]\n",
            " [0]\n",
            " [0]\n",
            " [1]\n",
            " [0]\n",
            " [1]\n",
            " [1]\n",
            " [0]\n",
            " [1]\n",
            " [0]\n",
            " [1]\n",
            " [1]\n",
            " [0]\n",
            " [0]\n",
            " [0]\n",
            " [0]\n",
            " [1]\n",
            " [1]\n",
            " [1]\n",
            " [1]\n",
            " [1]\n",
            " [0]\n",
            " [0]\n",
            " [0]\n",
            " [0]\n",
            " [0]\n",
            " [0]\n",
            " [0]\n",
            " [1]\n",
            " [0]\n",
            " [0]\n",
            " [1]\n",
            " [1]\n",
            " [0]\n",
            " [0]\n",
            " [0]\n",
            " [1]]\n"
          ],
          "name": "stdout"
        }
      ]
    },
    {
      "cell_type": "markdown",
      "metadata": {
        "id": "ufH0BshX9AVV",
        "colab_type": "text"
      },
      "source": [
        "The next thing to do is to convert the numpy arrays into PyTorch tensors.\n",
        "\n",
        "*NOTE: The tensor data type must be `torch.float32`*"
      ]
    },
    {
      "cell_type": "code",
      "metadata": {
        "id": "6ntyKtqt7wpq",
        "colab_type": "code",
        "colab": {
          "base_uri": "https://localhost:8080/",
          "height": 34
        },
        "outputId": "b7fec157-6f9d-4683-909b-40c0801e56fd"
      },
      "source": [
        "# Import from numpy arrays to pytorch\n",
        "inputs_training = torch.from_numpy(inputs_array_training).type(torch.float32)\n",
        "targets_training = torch.from_numpy(targets_array_training).type(torch.float32)\n",
        "inputs_training.dtype, targets_training.dtype"
      ],
      "execution_count": 18,
      "outputs": [
        {
          "output_type": "execute_result",
          "data": {
            "text/plain": [
              "(torch.float32, torch.float32)"
            ]
          },
          "metadata": {
            "tags": []
          },
          "execution_count": 18
        }
      ]
    },
    {
      "cell_type": "code",
      "metadata": {
        "id": "UhBK7IO6Bz_L",
        "colab_type": "code",
        "colab": {
          "base_uri": "https://localhost:8080/",
          "height": 34
        },
        "outputId": "f86ea352-8499-45af-8d75-0f92884a34d8"
      },
      "source": [
        "inputs_testing = torch.from_numpy(inputs_array_testing).type(torch.float32)\n",
        "targets_testing = torch.from_numpy(targets_array_testing).type(torch.float32)\n",
        "inputs_testing.dtype, targets_testing.dtype"
      ],
      "execution_count": 19,
      "outputs": [
        {
          "output_type": "execute_result",
          "data": {
            "text/plain": [
              "(torch.float32, torch.float32)"
            ]
          },
          "metadata": {
            "tags": []
          },
          "execution_count": 19
        }
      ]
    },
    {
      "cell_type": "markdown",
      "metadata": {
        "id": "XlgFva0O-hlg",
        "colab_type": "text"
      },
      "source": [
        "Now, create PyTorch datasets for training and validation"
      ]
    },
    {
      "cell_type": "code",
      "metadata": {
        "id": "IpTU1SyQ9XUe",
        "colab_type": "code",
        "colab": {}
      },
      "source": [
        "train_dataset = TensorDataset(inputs_training, targets_training)\n",
        "val_dataset = TensorDataset(inputs_testing, targets_testing)"
      ],
      "execution_count": 0,
      "outputs": []
    },
    {
      "cell_type": "markdown",
      "metadata": {
        "id": "BjBs0tMmDGbO",
        "colab_type": "text"
      },
      "source": [
        "Finally, create dataloaders for training and validation.\n",
        "\n",
        "To do so, it is necessary to select a batch size for the data loader. This means that the loader will not feed the whole dataset to the model at once, but it will feed the model with small entries."
      ]
    },
    {
      "cell_type": "code",
      "metadata": {
        "id": "JUFpL1LCD-va",
        "colab_type": "code",
        "colab": {}
      },
      "source": [
        "# Batch Size for data loader\n",
        "batch_size = 64"
      ],
      "execution_count": 0,
      "outputs": []
    },
    {
      "cell_type": "code",
      "metadata": {
        "id": "uiUxwM8OCNi2",
        "colab_type": "code",
        "colab": {}
      },
      "source": [
        "train_loader = DataLoader(train_dataset, batch_size, shuffle=True)\n",
        "val_loader = DataLoader(val_dataset, batch_size*2)"
      ],
      "execution_count": 0,
      "outputs": []
    },
    {
      "cell_type": "markdown",
      "metadata": {
        "id": "uZVcrp_9EboA",
        "colab_type": "text"
      },
      "source": [
        "It is possible to verify that the data loader worked well by running the following loop:"
      ]
    },
    {
      "cell_type": "code",
      "metadata": {
        "id": "QPJylNafEowa",
        "colab_type": "code",
        "colab": {
          "base_uri": "https://localhost:8080/",
          "height": 1000
        },
        "outputId": "c23d6426-96be-44e4-c972-bae0cae47859"
      },
      "source": [
        "print('Data inside the training data loader: ')\n",
        "for x_i, y_i in train_loader:\n",
        "  print(\"inputs\", x_i)\n",
        "  print(\"targets\", y_i)\n",
        "  break"
      ],
      "execution_count": 23,
      "outputs": [
        {
          "output_type": "stream",
          "text": [
            "Data inside the training data loader: \n",
            "inputs tensor([[  0.0000,  30.0000,   0.0000,   0.0000,   8.6625,   2.0000,   7.0000,\n",
            "           2.0000,   1.0000],\n",
            "        [  0.0000,  22.0000,   0.0000,   0.0000, 151.5500,   0.0000,   7.0000,\n",
            "           2.0000,   1.0000],\n",
            "        [  1.0000,  28.5000,   0.0000,   0.0000,   7.2292,   2.0000,   7.0000,\n",
            "           0.0000,   1.0000],\n",
            "        [  1.0000,  36.0000,   0.0000,   0.0000,  10.5000,   1.0000,   7.0000,\n",
            "           2.0000,   1.0000],\n",
            "        [  0.0000,  38.0000,   0.0000,   0.0000,  80.0000,   0.0000,   1.0000,\n",
            "           3.0000,   1.0000],\n",
            "        [  0.0000,  31.0000,   1.0000,   0.0000, 113.2750,   0.0000,   3.0000,\n",
            "           0.0000,   0.0000],\n",
            "        [  1.0000,  28.0000,   0.0000,   0.0000,   0.0000,   1.0000,   7.0000,\n",
            "           2.0000,   1.0000],\n",
            "        [  1.0000,  22.0000,   0.0000,   0.0000,   7.2500,   2.0000,   7.0000,\n",
            "           2.0000,   1.0000],\n",
            "        [  0.0000,  22.0000,   0.0000,   2.0000,  49.5000,   0.0000,   1.0000,\n",
            "           0.0000,   0.0000],\n",
            "        [  1.0000,  29.0000,   0.0000,   0.0000,   9.4833,   2.0000,   7.0000,\n",
            "           2.0000,   1.0000],\n",
            "        [  0.0000,   3.0000,   1.0000,   2.0000,  41.5792,   1.0000,   7.0000,\n",
            "           0.0000,   0.0000],\n",
            "        [  0.0000,  28.0000,   1.0000,   0.0000,  15.5000,   2.0000,   7.0000,\n",
            "           1.0000,   0.0000],\n",
            "        [  1.0000,  42.0000,   1.0000,   0.0000,  27.0000,   1.0000,   7.0000,\n",
            "           2.0000,   0.0000],\n",
            "        [  1.0000,  23.0000,   0.0000,   0.0000,   7.8542,   2.0000,   7.0000,\n",
            "           2.0000,   1.0000],\n",
            "        [  1.0000,  24.0000,   0.0000,   1.0000, 247.5208,   0.0000,   1.0000,\n",
            "           0.0000,   0.0000],\n",
            "        [  1.0000,  16.0000,   0.0000,   0.0000,   8.0500,   2.0000,   7.0000,\n",
            "           2.0000,   1.0000],\n",
            "        [  1.0000,  28.0000,   0.0000,   0.0000,  30.6958,   0.0000,   7.0000,\n",
            "           0.0000,   1.0000],\n",
            "        [  0.0000,  28.0000,   0.0000,   0.0000,   7.7500,   2.0000,   7.0000,\n",
            "           1.0000,   1.0000],\n",
            "        [  1.0000,  23.0000,   0.0000,   0.0000,  15.0458,   1.0000,   7.0000,\n",
            "           0.0000,   1.0000],\n",
            "        [  1.0000,  28.0000,   0.0000,   0.0000,   8.0500,   2.0000,   7.0000,\n",
            "           2.0000,   1.0000],\n",
            "        [  1.0000,  28.0000,   0.0000,   0.0000,  56.4958,   2.0000,   7.0000,\n",
            "           2.0000,   1.0000],\n",
            "        [  0.0000,  28.0000,   1.0000,   0.0000,  16.1000,   2.0000,   7.0000,\n",
            "           2.0000,   0.0000],\n",
            "        [  0.0000,  28.0000,   0.0000,   0.0000,   7.8792,   2.0000,   7.0000,\n",
            "           1.0000,   1.0000],\n",
            "        [  1.0000,  28.0000,   1.0000,   0.0000,  19.9667,   2.0000,   7.0000,\n",
            "           2.0000,   0.0000],\n",
            "        [  1.0000,  28.0000,   1.0000,   2.0000,  23.4500,   2.0000,   7.0000,\n",
            "           2.0000,   0.0000],\n",
            "        [  1.0000,   3.0000,   1.0000,   1.0000,  26.0000,   1.0000,   5.0000,\n",
            "           2.0000,   0.0000],\n",
            "        [  1.0000,  28.0000,   0.0000,   0.0000,   7.7750,   2.0000,   7.0000,\n",
            "           2.0000,   1.0000],\n",
            "        [  0.0000,  28.0000,   1.0000,   0.0000,  89.1042,   0.0000,   2.0000,\n",
            "           0.0000,   0.0000],\n",
            "        [  1.0000,  43.0000,   0.0000,   0.0000,   8.0500,   2.0000,   7.0000,\n",
            "           2.0000,   1.0000],\n",
            "        [  0.0000,  30.0000,   3.0000,   0.0000,  21.0000,   1.0000,   7.0000,\n",
            "           2.0000,   0.0000],\n",
            "        [  1.0000,  20.0000,   0.0000,   0.0000,   9.2250,   2.0000,   7.0000,\n",
            "           2.0000,   1.0000],\n",
            "        [  0.0000,  41.0000,   0.0000,   5.0000,  39.6875,   2.0000,   7.0000,\n",
            "           2.0000,   0.0000],\n",
            "        [  0.0000,  24.0000,   0.0000,   3.0000,  19.2583,   2.0000,   7.0000,\n",
            "           0.0000,   0.0000],\n",
            "        [  1.0000,  32.0000,   0.0000,   0.0000,   7.7500,   2.0000,   7.0000,\n",
            "           1.0000,   1.0000],\n",
            "        [  0.0000,   5.0000,   0.0000,   0.0000,  12.4750,   2.0000,   7.0000,\n",
            "           2.0000,   1.0000],\n",
            "        [  1.0000,  17.0000,   0.0000,   0.0000,   8.6625,   2.0000,   7.0000,\n",
            "           2.0000,   1.0000],\n",
            "        [  1.0000,  28.0000,   0.0000,   0.0000,  56.4958,   2.0000,   7.0000,\n",
            "           2.0000,   1.0000],\n",
            "        [  0.0000,  21.0000,   0.0000,   0.0000,  77.9583,   0.0000,   3.0000,\n",
            "           2.0000,   1.0000],\n",
            "        [  0.0000,  50.0000,   0.0000,   0.0000,  10.5000,   1.0000,   7.0000,\n",
            "           2.0000,   1.0000],\n",
            "        [  1.0000,  28.0000,   0.0000,   1.0000,  33.0000,   1.0000,   7.0000,\n",
            "           2.0000,   0.0000],\n",
            "        [  1.0000,  34.0000,   0.0000,   0.0000,  13.0000,   1.0000,   7.0000,\n",
            "           2.0000,   1.0000],\n",
            "        [  1.0000,  71.0000,   0.0000,   0.0000,  49.5042,   0.0000,   7.0000,\n",
            "           0.0000,   1.0000],\n",
            "        [  1.0000,  30.0000,   1.0000,   0.0000,  24.0000,   1.0000,   7.0000,\n",
            "           0.0000,   0.0000],\n",
            "        [  1.0000,  34.5000,   0.0000,   0.0000,   6.4375,   2.0000,   7.0000,\n",
            "           0.0000,   1.0000],\n",
            "        [  1.0000,  35.0000,   0.0000,   0.0000,   8.0500,   2.0000,   7.0000,\n",
            "           2.0000,   1.0000],\n",
            "        [  1.0000,   7.0000,   4.0000,   1.0000,  29.1250,   2.0000,   7.0000,\n",
            "           1.0000,   0.0000],\n",
            "        [  1.0000,  20.0000,   0.0000,   0.0000,   9.8458,   2.0000,   7.0000,\n",
            "           2.0000,   1.0000],\n",
            "        [  1.0000,  28.0000,   0.0000,   0.0000,   7.8958,   2.0000,   7.0000,\n",
            "           2.0000,   1.0000],\n",
            "        [  0.0000,  54.0000,   1.0000,   0.0000,  59.4000,   0.0000,   7.0000,\n",
            "           0.0000,   0.0000],\n",
            "        [  1.0000,  23.0000,   0.0000,   0.0000,  13.0000,   1.0000,   7.0000,\n",
            "           2.0000,   1.0000],\n",
            "        [  1.0000,  28.0000,   0.0000,   0.0000,   8.0500,   2.0000,   7.0000,\n",
            "           2.0000,   1.0000],\n",
            "        [  0.0000,  27.0000,   0.0000,   2.0000,  11.1333,   2.0000,   7.0000,\n",
            "           2.0000,   0.0000],\n",
            "        [  1.0000,  40.5000,   0.0000,   2.0000,  14.5000,   2.0000,   7.0000,\n",
            "           2.0000,   0.0000],\n",
            "        [  1.0000,  18.0000,   1.0000,   0.0000, 108.9000,   0.0000,   2.0000,\n",
            "           0.0000,   0.0000],\n",
            "        [  1.0000,  28.0000,   0.0000,   0.0000,   7.8958,   2.0000,   7.0000,\n",
            "           2.0000,   1.0000],\n",
            "        [  0.0000,  17.0000,   4.0000,   2.0000,   7.9250,   2.0000,   7.0000,\n",
            "           2.0000,   0.0000],\n",
            "        [  1.0000,  27.0000,   0.0000,   0.0000,   7.8958,   2.0000,   7.0000,\n",
            "           2.0000,   1.0000],\n",
            "        [  1.0000,  28.0000,   1.0000,   0.0000,  15.8500,   2.0000,   7.0000,\n",
            "           2.0000,   0.0000],\n",
            "        [  1.0000,  28.0000,   0.0000,   0.0000,   7.7500,   2.0000,   7.0000,\n",
            "           1.0000,   1.0000],\n",
            "        [  1.0000,  28.0000,   8.0000,   2.0000,  69.5500,   2.0000,   7.0000,\n",
            "           2.0000,   0.0000],\n",
            "        [  1.0000,  34.0000,   1.0000,   1.0000,  14.4000,   2.0000,   7.0000,\n",
            "           2.0000,   0.0000],\n",
            "        [  1.0000,  18.0000,   0.0000,   0.0000,   8.3000,   2.0000,   7.0000,\n",
            "           2.0000,   1.0000],\n",
            "        [  1.0000,  35.0000,   0.0000,   0.0000,  26.2875,   0.0000,   4.0000,\n",
            "           2.0000,   1.0000],\n",
            "        [  1.0000,  28.0000,   0.0000,   0.0000,   8.4583,   2.0000,   7.0000,\n",
            "           1.0000,   1.0000]])\n",
            "targets tensor([[0.],\n",
            "        [1.],\n",
            "        [0.],\n",
            "        [0.],\n",
            "        [1.],\n",
            "        [1.],\n",
            "        [0.],\n",
            "        [0.],\n",
            "        [1.],\n",
            "        [0.],\n",
            "        [1.],\n",
            "        [1.],\n",
            "        [0.],\n",
            "        [0.],\n",
            "        [0.],\n",
            "        [0.],\n",
            "        [0.],\n",
            "        [1.],\n",
            "        [0.],\n",
            "        [0.],\n",
            "        [0.],\n",
            "        [1.],\n",
            "        [1.],\n",
            "        [0.],\n",
            "        [0.],\n",
            "        [1.],\n",
            "        [0.],\n",
            "        [1.],\n",
            "        [0.],\n",
            "        [1.],\n",
            "        [0.],\n",
            "        [0.],\n",
            "        [1.],\n",
            "        [0.],\n",
            "        [1.],\n",
            "        [0.],\n",
            "        [1.],\n",
            "        [1.],\n",
            "        [1.],\n",
            "        [0.],\n",
            "        [0.],\n",
            "        [0.],\n",
            "        [0.],\n",
            "        [0.],\n",
            "        [0.],\n",
            "        [0.],\n",
            "        [0.],\n",
            "        [0.],\n",
            "        [1.],\n",
            "        [0.],\n",
            "        [0.],\n",
            "        [1.],\n",
            "        [0.],\n",
            "        [0.],\n",
            "        [0.],\n",
            "        [1.],\n",
            "        [0.],\n",
            "        [0.],\n",
            "        [0.],\n",
            "        [0.],\n",
            "        [0.],\n",
            "        [0.],\n",
            "        [1.],\n",
            "        [0.]])\n"
          ],
          "name": "stdout"
        }
      ]
    },
    {
      "cell_type": "code",
      "metadata": {
        "id": "TJRy--0fFGYI",
        "colab_type": "code",
        "colab": {
          "base_uri": "https://localhost:8080/",
          "height": 1000
        },
        "outputId": "5004b505-b55e-417c-f8c2-03c9433bc5be"
      },
      "source": [
        "print('Data inside the validation data loader: ')\n",
        "for x_o, y_o in val_loader:\n",
        "  print(\"inputs\", x_o)\n",
        "  print(\"targets\", y_o)\n",
        "  break"
      ],
      "execution_count": 24,
      "outputs": [
        {
          "output_type": "stream",
          "text": [
            "Data inside the validation data loader: \n",
            "inputs tensor([[ 1., 35.,  0.,  ...,  6.,  2.,  1.],\n",
            "        [ 1., 54.,  0.,  ...,  4.,  2.,  1.],\n",
            "        [ 0., 58.,  0.,  ...,  2.,  2.,  1.],\n",
            "        ...,\n",
            "        [ 1., 28.,  0.,  ...,  6.,  2.,  1.],\n",
            "        [ 0., 50.,  0.,  ...,  6.,  2.,  1.],\n",
            "        [ 1., 28.,  0.,  ...,  6.,  1.,  1.]])\n",
            "targets tensor([[0.],\n",
            "        [0.],\n",
            "        [1.],\n",
            "        [1.],\n",
            "        [1.],\n",
            "        [1.],\n",
            "        [0.],\n",
            "        [0.],\n",
            "        [0.],\n",
            "        [1.],\n",
            "        [1.],\n",
            "        [0.],\n",
            "        [1.],\n",
            "        [0.],\n",
            "        [1.],\n",
            "        [0.],\n",
            "        [0.],\n",
            "        [1.],\n",
            "        [1.],\n",
            "        [0.],\n",
            "        [0.],\n",
            "        [0.],\n",
            "        [1.],\n",
            "        [0.],\n",
            "        [0.],\n",
            "        [0.],\n",
            "        [0.],\n",
            "        [0.],\n",
            "        [1.],\n",
            "        [1.],\n",
            "        [0.],\n",
            "        [1.],\n",
            "        [0.],\n",
            "        [1.],\n",
            "        [0.],\n",
            "        [1.],\n",
            "        [0.],\n",
            "        [0.],\n",
            "        [1.],\n",
            "        [0.],\n",
            "        [1.],\n",
            "        [1.],\n",
            "        [0.],\n",
            "        [0.],\n",
            "        [0.],\n",
            "        [1.],\n",
            "        [0.],\n",
            "        [0.],\n",
            "        [1.],\n",
            "        [0.],\n",
            "        [0.],\n",
            "        [0.],\n",
            "        [0.],\n",
            "        [0.],\n",
            "        [1.],\n",
            "        [0.],\n",
            "        [0.],\n",
            "        [1.],\n",
            "        [0.],\n",
            "        [0.],\n",
            "        [1.],\n",
            "        [1.],\n",
            "        [0.],\n",
            "        [1.],\n",
            "        [0.],\n",
            "        [0.],\n",
            "        [1.],\n",
            "        [0.],\n",
            "        [0.],\n",
            "        [1.],\n",
            "        [1.],\n",
            "        [0.],\n",
            "        [0.],\n",
            "        [1.],\n",
            "        [0.],\n",
            "        [1.],\n",
            "        [0.],\n",
            "        [1.],\n",
            "        [1.],\n",
            "        [1.],\n",
            "        [0.],\n",
            "        [0.],\n",
            "        [0.],\n",
            "        [0.],\n",
            "        [1.],\n",
            "        [1.],\n",
            "        [1.],\n",
            "        [0.],\n",
            "        [1.],\n",
            "        [1.],\n",
            "        [1.],\n",
            "        [0.],\n",
            "        [0.],\n",
            "        [1.],\n",
            "        [1.],\n",
            "        [1.],\n",
            "        [1.],\n",
            "        [0.],\n",
            "        [0.],\n",
            "        [0.],\n",
            "        [0.],\n",
            "        [1.],\n",
            "        [0.],\n",
            "        [0.],\n",
            "        [1.],\n",
            "        [0.],\n",
            "        [1.],\n",
            "        [1.],\n",
            "        [1.],\n",
            "        [0.],\n",
            "        [1.],\n",
            "        [0.],\n",
            "        [0.],\n",
            "        [0.],\n",
            "        [1.],\n",
            "        [0.],\n",
            "        [0.],\n",
            "        [0.],\n",
            "        [0.],\n",
            "        [1.],\n",
            "        [0.],\n",
            "        [0.],\n",
            "        [1.],\n",
            "        [1.],\n",
            "        [0.],\n",
            "        [0.],\n",
            "        [1.],\n",
            "        [0.]])\n"
          ],
          "name": "stdout"
        }
      ]
    },
    {
      "cell_type": "markdown",
      "metadata": {
        "id": "vR4Np2QmFU5U",
        "colab_type": "text"
      },
      "source": [
        "#### Step 5: Creating the Linear Regression Model\n",
        "\n",
        "This a fairly straightforward linear regression model. \n",
        "\n",
        "First, it is necessary to define how many columns are in the input and output variables."
      ]
    },
    {
      "cell_type": "code",
      "metadata": {
        "id": "HSLiq2UvFwzh",
        "colab_type": "code",
        "colab": {
          "base_uri": "https://localhost:8080/",
          "height": 68
        },
        "outputId": "2236a015-0e0d-4850-ef66-77f43db74039"
      },
      "source": [
        "input_size = len(input_cols)\n",
        "output_size = len(output_cols)\n",
        "input_cols, output_cols"
      ],
      "execution_count": 25,
      "outputs": [
        {
          "output_type": "execute_result",
          "data": {
            "text/plain": [
              "(array(['sex', 'age', 'n_siblings_spouses', 'parch', 'fare', 'class',\n",
              "        'deck', 'embark_town', 'alone'], dtype=object),\n",
              " array(['survived'], dtype=object))"
            ]
          },
          "metadata": {
            "tags": []
          },
          "execution_count": 25
        }
      ]
    },
    {
      "cell_type": "markdown",
      "metadata": {
        "id": "XHZ6QK4dJzu5",
        "colab_type": "text"
      },
      "source": [
        "Second, it is necesary to define a class where the model will be build.\n",
        "\n"
      ]
    },
    {
      "cell_type": "code",
      "metadata": {
        "id": "CPQgfZyQFzJB",
        "colab_type": "code",
        "colab": {}
      },
      "source": [
        "class TitanicModel(nn.Module):\n",
        "    def __init__(self):\n",
        "        super().__init__()\n",
        "        self.linear = nn.Linear(input_size, output_size) \n",
        "        \n",
        "    def forward(self, xb):\n",
        "        out = self.linear(xb)                          \n",
        "        return out\n",
        "    \n",
        "    def training_step(self, batch):\n",
        "        inputs, targets = batch \n",
        "        # Generate predictions\n",
        "        out = self(inputs)          \n",
        "        # Calcuate loss\n",
        "        #loss = F.l1_loss(out, targets) \n",
        "        loss = F.mse_loss(out, targets)                          \n",
        "        return loss\n",
        "    \n",
        "    def validation_step(self, batch):\n",
        "        inputs, targets = batch\n",
        "        # Generate predictions\n",
        "        out = self(inputs)\n",
        "        # Calculate loss\n",
        "        #loss = F.l1_loss(out, targets)   \n",
        "        loss = F.mse_loss(out, targets)                           \n",
        "        return {'val_loss': loss.detach()}\n",
        "        \n",
        "    def validation_epoch_end(self, outputs):\n",
        "        batch_losses = [x['val_loss'] for x in outputs]\n",
        "        epoch_loss = torch.stack(batch_losses).mean() \n",
        "        return {'val_loss': epoch_loss.item()}\n",
        "    \n",
        "    def epoch_end(self, epoch, result, num_epochs):\n",
        "        # Print result every 20th epoch\n",
        "        if (epoch+1) % 20 == 0 or epoch == num_epochs-1:\n",
        "            print(\"Epoch [{}], val_loss: {:.4f}\".format(epoch+1, result['val_loss']))"
      ],
      "execution_count": 0,
      "outputs": []
    },
    {
      "cell_type": "markdown",
      "metadata": {
        "id": "c1sg50jVNvQf",
        "colab_type": "text"
      },
      "source": [
        "Then, it is just a matter of build the model and check its initial weights and biases."
      ]
    },
    {
      "cell_type": "code",
      "metadata": {
        "id": "94XMPItQF8dR",
        "colab_type": "code",
        "colab": {}
      },
      "source": [
        "model = TitanicModel()"
      ],
      "execution_count": 0,
      "outputs": []
    },
    {
      "cell_type": "code",
      "metadata": {
        "id": "MDxJbCeLGBe5",
        "colab_type": "code",
        "colab": {
          "base_uri": "https://localhost:8080/",
          "height": 85
        },
        "outputId": "61c3122b-a7a4-41f4-fb7d-ee6e90b3047b"
      },
      "source": [
        "list(model.parameters())"
      ],
      "execution_count": 28,
      "outputs": [
        {
          "output_type": "execute_result",
          "data": {
            "text/plain": [
              "[Parameter containing:\n",
              " tensor([[ 0.1652,  0.0280,  0.2494, -0.2080,  0.2956,  0.1605, -0.0413,  0.3330,\n",
              "          -0.1175]], requires_grad=True), Parameter containing:\n",
              " tensor([0.1035], requires_grad=True)]"
            ]
          },
          "metadata": {
            "tags": []
          },
          "execution_count": 28
        }
      ]
    },
    {
      "cell_type": "markdown",
      "metadata": {
        "id": "rE7TSQ-MGMX3",
        "colab_type": "text"
      },
      "source": [
        "#### Step 6: Training the Model and Fitting the Data\n",
        "\n",
        "To train the model, it is necesary to define the `evaluate` function, which will perform the validation of the model, and the `fit` function, which will perform the training process."
      ]
    },
    {
      "cell_type": "code",
      "metadata": {
        "id": "nAI8bkIfGewk",
        "colab_type": "code",
        "colab": {}
      },
      "source": [
        "def evaluate(model, val_loader):\n",
        "    outputs = [model.validation_step(batch) for batch in val_loader]\n",
        "    return model.validation_epoch_end(outputs)\n",
        "\n",
        "def fit(epochs, lr, model, train_loader, val_loader, opt_func=torch.optim.SGD):\n",
        "    history = []\n",
        "    optimizer = opt_func(model.parameters(), lr)\n",
        "    for epoch in range(epochs):\n",
        "        # Training Phase \n",
        "        for batch in train_loader:\n",
        "            loss = model.training_step(batch)\n",
        "            loss.backward()\n",
        "            optimizer.step()\n",
        "            optimizer.zero_grad()\n",
        "        # Validation phase\n",
        "        result = evaluate(model, val_loader)\n",
        "        model.epoch_end(epoch, result, epochs)\n",
        "        history.append(result)\n",
        "    return history"
      ],
      "execution_count": 0,
      "outputs": []
    },
    {
      "cell_type": "markdown",
      "metadata": {
        "id": "-Bl07TpnOnv_",
        "colab_type": "text"
      },
      "source": [
        "The `fit` function records the validation loss and metric from each epoch and returns a history of the training process. This is useful for debuggin & visualizing the training process. \n",
        "\n",
        "Configurations like batch size and learning rate need to be selected in advance while training machine learning models, and are called hyperparameters. \n",
        "\n",
        "Selecting the right hyperparameters is critical for training an accurate model within a reasonable amount of time, and is an active area of research and experimentation. Feel free to try different learning rates and see how it affects the training process."
      ]
    },
    {
      "cell_type": "code",
      "metadata": {
        "id": "udmUAA9lGiy7",
        "colab_type": "code",
        "colab": {
          "base_uri": "https://localhost:8080/",
          "height": 34
        },
        "outputId": "5e020a4f-7ce4-4214-878b-b02bd7b6af37"
      },
      "source": [
        "result = evaluate(model, val_loader) # Use the the evaluate function\n",
        "print(result)"
      ],
      "execution_count": 30,
      "outputs": [
        {
          "output_type": "stream",
          "text": [
            "{'val_loss': 185.7541961669922}\n"
          ],
          "name": "stdout"
        }
      ]
    },
    {
      "cell_type": "markdown",
      "metadata": {
        "id": "PIZag6DTGpIP",
        "colab_type": "text"
      },
      "source": [
        "At this point the model is ready to be trained.It may be necessary to run the training loops many times, for different number of epochs and with different learning rates, to get a good result. \n",
        "\n",
        "*NOTE: If the loss becomes too large (or `nan`), it might be necessary to re-initialize the model by running the cell `model = InsuranceModel()`.*"
      ]
    },
    {
      "cell_type": "code",
      "metadata": {
        "id": "tAfEwiAmGjc4",
        "colab_type": "code",
        "colab": {
          "base_uri": "https://localhost:8080/",
          "height": 102
        },
        "outputId": "4c784f4c-35bc-4653-e65e-cd5f40242ea2"
      },
      "source": [
        "epochs = 100\n",
        "lr = 1e-4\n",
        "history1 = fit(epochs, lr, model, train_loader, val_loader)"
      ],
      "execution_count": 31,
      "outputs": [
        {
          "output_type": "stream",
          "text": [
            "Epoch [20], val_loss: 0.6428\n",
            "Epoch [40], val_loss: 0.5909\n",
            "Epoch [60], val_loss: 0.7017\n",
            "Epoch [80], val_loss: 0.5255\n",
            "Epoch [100], val_loss: 0.4987\n"
          ],
          "name": "stdout"
        }
      ]
    },
    {
      "cell_type": "code",
      "metadata": {
        "id": "Z34cG14QG0xT",
        "colab_type": "code",
        "colab": {
          "base_uri": "https://localhost:8080/",
          "height": 102
        },
        "outputId": "f8b2ebe5-b55b-4c3f-8298-bd7833b52cc4"
      },
      "source": [
        "epochs = 100\n",
        "lr = 1e-4\n",
        "history2 = fit(epochs, lr, model, train_loader, val_loader)"
      ],
      "execution_count": 32,
      "outputs": [
        {
          "output_type": "stream",
          "text": [
            "Epoch [20], val_loss: 0.4799\n",
            "Epoch [40], val_loss: 0.4913\n",
            "Epoch [60], val_loss: 0.4446\n",
            "Epoch [80], val_loss: 0.4453\n",
            "Epoch [100], val_loss: 0.4254\n"
          ],
          "name": "stdout"
        }
      ]
    },
    {
      "cell_type": "code",
      "metadata": {
        "id": "eNR8uzC_G0kF",
        "colab_type": "code",
        "colab": {
          "base_uri": "https://localhost:8080/",
          "height": 102
        },
        "outputId": "a5cfc2a5-f3b3-495f-f650-0d8885b74237"
      },
      "source": [
        "epochs = 100\n",
        "lr = 1e-5\n",
        "history3 = fit(epochs, lr, model, train_loader, val_loader)"
      ],
      "execution_count": 33,
      "outputs": [
        {
          "output_type": "stream",
          "text": [
            "Epoch [20], val_loss: 0.4177\n",
            "Epoch [40], val_loss: 0.4157\n",
            "Epoch [60], val_loss: 0.4153\n",
            "Epoch [80], val_loss: 0.4134\n",
            "Epoch [100], val_loss: 0.4119\n"
          ],
          "name": "stdout"
        }
      ]
    },
    {
      "cell_type": "code",
      "metadata": {
        "id": "8plxUXKIG0VT",
        "colab_type": "code",
        "colab": {
          "base_uri": "https://localhost:8080/",
          "height": 102
        },
        "outputId": "e4b3f80e-ff73-482d-f4ec-13acab545e61"
      },
      "source": [
        "epochs = 100\n",
        "lr = 1e-5\n",
        "history4 = fit(epochs, lr, model, train_loader, val_loader)"
      ],
      "execution_count": 34,
      "outputs": [
        {
          "output_type": "stream",
          "text": [
            "Epoch [20], val_loss: 0.4108\n",
            "Epoch [40], val_loss: 0.4098\n",
            "Epoch [60], val_loss: 0.4089\n",
            "Epoch [80], val_loss: 0.4076\n",
            "Epoch [100], val_loss: 0.4072\n"
          ],
          "name": "stdout"
        }
      ]
    },
    {
      "cell_type": "code",
      "metadata": {
        "id": "f6yPtCPNHRJo",
        "colab_type": "code",
        "colab": {
          "base_uri": "https://localhost:8080/",
          "height": 102
        },
        "outputId": "75a1faac-38d2-4fb7-ad3e-8170da0a804f"
      },
      "source": [
        "epochs = 100\n",
        "lr = 1e-6\n",
        "history5 = fit(epochs, lr, model, train_loader, val_loader)"
      ],
      "execution_count": 35,
      "outputs": [
        {
          "output_type": "stream",
          "text": [
            "Epoch [20], val_loss: 0.4062\n",
            "Epoch [40], val_loss: 0.4060\n",
            "Epoch [60], val_loss: 0.4058\n",
            "Epoch [80], val_loss: 0.4057\n",
            "Epoch [100], val_loss: 0.4056\n"
          ],
          "name": "stdout"
        }
      ]
    },
    {
      "cell_type": "markdown",
      "metadata": {
        "id": "98dlYMJ1GojV",
        "colab_type": "text"
      },
      "source": [
        "Once the model is trained, it might be necesary to report the final validation loss of the model."
      ]
    },
    {
      "cell_type": "code",
      "metadata": {
        "id": "pBxNUHjfK0pc",
        "colab_type": "code",
        "colab": {
          "base_uri": "https://localhost:8080/",
          "height": 34
        },
        "outputId": "71e33aa1-188f-4df5-81c1-aaba8c8e3369"
      },
      "source": [
        "val_loss = history5[-1]\n",
        "print('The final validation loss is: ', val_loss)"
      ],
      "execution_count": 36,
      "outputs": [
        {
          "output_type": "stream",
          "text": [
            "The final validation loss is:  {'val_loss': 0.405606746673584}\n"
          ],
          "name": "stdout"
        }
      ]
    },
    {
      "cell_type": "markdown",
      "metadata": {
        "id": "zhtML8cbLLTQ",
        "colab_type": "text"
      },
      "source": [
        "If it is necessary to plot the whole training history, it would be just a matter to run the following lines."
      ]
    },
    {
      "cell_type": "code",
      "metadata": {
        "id": "TPbu-W0LLHHB",
        "colab_type": "code",
        "colab": {
          "base_uri": "https://localhost:8080/",
          "height": 312
        },
        "outputId": "97e25425-0539-42b8-98cb-93fe7285ae36"
      },
      "source": [
        "whole_history = [result] + history1 + history2 + history3 + history4 + history5\n",
        "losses = [r['val_loss'] for r in whole_history]\n",
        "\n",
        "plt.plot(losses)\n",
        "plt.grid('on')\n",
        "plt.title('Loss Value vs Training Epochs')\n",
        "plt.xlabel('epochs')\n",
        "plt.ylabel('losses')"
      ],
      "execution_count": 37,
      "outputs": [
        {
          "output_type": "execute_result",
          "data": {
            "text/plain": [
              "Text(0, 0.5, 'losses')"
            ]
          },
          "metadata": {
            "tags": []
          },
          "execution_count": 37
        },
        {
          "output_type": "display_data",
          "data": {
            "image/png": "[encoded data removed]",
            "text/plain": [
              "<Figure size 432x288 with 1 Axes>"
            ]
          },
          "metadata": {
            "tags": []
          }
        }
      ]
    },
    {
      "cell_type": "markdown",
      "metadata": {
        "id": "tGElLUkmLmJx",
        "colab_type": "text"
      },
      "source": [
        "#### Step 7: Making Predictions Using the Trained Model\n",
        "\n",
        "To make predictions using the trained model it would be necesary to define the `predict_single` function, which will take as input a row from the validation dataset and make the prediction of whether the passenger survived or not."
      ]
    },
    {
      "cell_type": "code",
      "metadata": {
        "id": "lDGF_otqLlQ9",
        "colab_type": "code",
        "colab": {}
      },
      "source": [
        "def predict_single(input, target, model):\n",
        "    inputs = input.unsqueeze(0)\n",
        "    predictions = model(input)                # fill this\n",
        "    prediction = predictions[0].detach()\n",
        "    print(\"Input:\", input)\n",
        "    print(\"Target:\", target)\n",
        "    print(\"Prediction:\", prediction)\n",
        "    if prediction >= 0.5:\n",
        "      print('The passenger survived!')\n",
        "    else:\n",
        "      print('Tha passenger did not survived...')\n"
      ],
      "execution_count": 0,
      "outputs": []
    },
    {
      "cell_type": "markdown",
      "metadata": {
        "id": "mp0xOsTuRYzX",
        "colab_type": "text"
      },
      "source": [
        "To see if the predictions are correct, it is possible to print the frist 5 rows of the testing dataset"
      ]
    },
    {
      "cell_type": "code",
      "metadata": {
        "id": "69hMgP-WNw3G",
        "colab_type": "code",
        "colab": {
          "base_uri": "https://localhost:8080/",
          "height": 204
        },
        "outputId": "731d1cc8-3789-4a78-83ed-c18ebaf4d4ea"
      },
      "source": [
        "dataset_testing.head()"
      ],
      "execution_count": 39,
      "outputs": [
        {
          "output_type": "execute_result",
          "data": {
            "text/html": [
              "<div>\n",
              "<style scoped>\n",
              "    .dataframe tbody tr th:only-of-type {\n",
              "        vertical-align: middle;\n",
              "    }\n",
              "\n",
              "    .dataframe tbody tr th {\n",
              "        vertical-align: top;\n",
              "    }\n",
              "\n",
              "    .dataframe thead th {\n",
              "        text-align: right;\n",
              "    }\n",
              "</style>\n",
              "<table border=\"1\" class=\"dataframe\">\n",
              "  <thead>\n",
              "    <tr style=\"text-align: right;\">\n",
              "      <th></th>\n",
              "      <th>survived</th>\n",
              "      <th>sex</th>\n",
              "      <th>age</th>\n",
              "      <th>n_siblings_spouses</th>\n",
              "      <th>parch</th>\n",
              "      <th>fare</th>\n",
              "      <th>class</th>\n",
              "      <th>deck</th>\n",
              "      <th>embark_town</th>\n",
              "      <th>alone</th>\n",
              "    </tr>\n",
              "  </thead>\n",
              "  <tbody>\n",
              "    <tr>\n",
              "      <th>0</th>\n",
              "      <td>0</td>\n",
              "      <td>male</td>\n",
              "      <td>35.0</td>\n",
              "      <td>0</td>\n",
              "      <td>0</td>\n",
              "      <td>8.0500</td>\n",
              "      <td>Third</td>\n",
              "      <td>unknown</td>\n",
              "      <td>Southampton</td>\n",
              "      <td>y</td>\n",
              "    </tr>\n",
              "    <tr>\n",
              "      <th>1</th>\n",
              "      <td>0</td>\n",
              "      <td>male</td>\n",
              "      <td>54.0</td>\n",
              "      <td>0</td>\n",
              "      <td>0</td>\n",
              "      <td>51.8625</td>\n",
              "      <td>First</td>\n",
              "      <td>E</td>\n",
              "      <td>Southampton</td>\n",
              "      <td>y</td>\n",
              "    </tr>\n",
              "    <tr>\n",
              "      <th>2</th>\n",
              "      <td>1</td>\n",
              "      <td>female</td>\n",
              "      <td>58.0</td>\n",
              "      <td>0</td>\n",
              "      <td>0</td>\n",
              "      <td>26.5500</td>\n",
              "      <td>First</td>\n",
              "      <td>C</td>\n",
              "      <td>Southampton</td>\n",
              "      <td>y</td>\n",
              "    </tr>\n",
              "    <tr>\n",
              "      <th>3</th>\n",
              "      <td>1</td>\n",
              "      <td>female</td>\n",
              "      <td>55.0</td>\n",
              "      <td>0</td>\n",
              "      <td>0</td>\n",
              "      <td>16.0000</td>\n",
              "      <td>Second</td>\n",
              "      <td>unknown</td>\n",
              "      <td>Southampton</td>\n",
              "      <td>y</td>\n",
              "    </tr>\n",
              "    <tr>\n",
              "      <th>4</th>\n",
              "      <td>1</td>\n",
              "      <td>male</td>\n",
              "      <td>34.0</td>\n",
              "      <td>0</td>\n",
              "      <td>0</td>\n",
              "      <td>13.0000</td>\n",
              "      <td>Second</td>\n",
              "      <td>D</td>\n",
              "      <td>Southampton</td>\n",
              "      <td>y</td>\n",
              "    </tr>\n",
              "  </tbody>\n",
              "</table>\n",
              "</div>"
            ],
            "text/plain": [
              "   survived     sex   age  ...     deck  embark_town  alone\n",
              "0         0    male  35.0  ...  unknown  Southampton      y\n",
              "1         0    male  54.0  ...        E  Southampton      y\n",
              "2         1  female  58.0  ...        C  Southampton      y\n",
              "3         1  female  55.0  ...  unknown  Southampton      y\n",
              "4         1    male  34.0  ...        D  Southampton      y\n",
              "\n",
              "[5 rows x 10 columns]"
            ]
          },
          "metadata": {
            "tags": []
          },
          "execution_count": 39
        }
      ]
    },
    {
      "cell_type": "markdown",
      "metadata": {
        "id": "6_aAl8j1RmOV",
        "colab_type": "text"
      },
      "source": [
        "Now, it is just a matter of selecting which row of the validation dataset will pass throught the `predict_single` function."
      ]
    },
    {
      "cell_type": "code",
      "metadata": {
        "id": "EAeaYROOLOv7",
        "colab_type": "code",
        "colab": {
          "base_uri": "https://localhost:8080/",
          "height": 102
        },
        "outputId": "50ad89a8-984c-4a23-b311-5a044cb35839"
      },
      "source": [
        "input, target = val_dataset[0]\n",
        "predict_single(input, target, model)"
      ],
      "execution_count": 40,
      "outputs": [
        {
          "output_type": "stream",
          "text": [
            "Input: tensor([ 1.0000, 35.0000,  0.0000,  0.0000,  8.0500,  2.0000,  6.0000,  2.0000,\n",
            "         1.0000])\n",
            "Target: tensor([0.])\n",
            "Prediction: tensor(0.4714)\n",
            "Tha passenger did not survived...\n"
          ],
          "name": "stdout"
        }
      ]
    },
    {
      "cell_type": "code",
      "metadata": {
        "id": "qYk_zWpKL5Ua",
        "colab_type": "code",
        "colab": {
          "base_uri": "https://localhost:8080/",
          "height": 102
        },
        "outputId": "45e33004-d5d4-44a8-a10f-4f818cad5900"
      },
      "source": [
        "input, target = val_dataset[1]\n",
        "predict_single(input, target, model)"
      ],
      "execution_count": 41,
      "outputs": [
        {
          "output_type": "stream",
          "text": [
            "Input: tensor([ 1.0000, 54.0000,  0.0000,  0.0000, 51.8625,  0.0000,  4.0000,  2.0000,\n",
            "         1.0000])\n",
            "Target: tensor([0.])\n",
            "Prediction: tensor(0.5506)\n",
            "The passenger survived!\n"
          ],
          "name": "stdout"
        }
      ]
    },
    {
      "cell_type": "code",
      "metadata": {
        "id": "M_fbnE20L7FJ",
        "colab_type": "code",
        "colab": {
          "base_uri": "https://localhost:8080/",
          "height": 102
        },
        "outputId": "0f1e565f-c104-4557-dead-9c5cca13ae6f"
      },
      "source": [
        "input, target = val_dataset[2]\n",
        "predict_single(input, target, model)"
      ],
      "execution_count": 42,
      "outputs": [
        {
          "output_type": "stream",
          "text": [
            "Input: tensor([ 0.0000, 58.0000,  0.0000,  0.0000, 26.5500,  0.0000,  2.0000,  2.0000,\n",
            "         1.0000])\n",
            "Target: tensor([1.])\n",
            "Prediction: tensor(0.5233)\n",
            "The passenger survived!\n"
          ],
          "name": "stdout"
        }
      ]
    },
    {
      "cell_type": "markdown",
      "metadata": {
        "id": "XWfCCev0SI-e",
        "colab_type": "text"
      },
      "source": [
        "#### Step 8: Saving the Model\n",
        "\n",
        "To save the model, it is just a matter to run the following lines. This will save the model in the local folder and it is possible to load it in the future. \n",
        "\n",
        "This will save time and computational resourses."
      ]
    },
    {
      "cell_type": "code",
      "metadata": {
        "id": "WArpajECQxkd",
        "colab_type": "code",
        "colab": {}
      },
      "source": [
        "torch.save(model.state_dict(), 'titanic_linear_regresion_model.pth')"
      ],
      "execution_count": 0,
      "outputs": []
    },
    {
      "cell_type": "markdown",
      "metadata": {
        "id": "89t4X8_OSqjC",
        "colab_type": "text"
      },
      "source": [
        "The `.state_dict` method returns an `OrderedDict` containing all the weights and bias matrices mapped to the right attributes of the model."
      ]
    },
    {
      "cell_type": "code",
      "metadata": {
        "id": "2UKZXZ6ITPWx",
        "colab_type": "code",
        "colab": {
          "base_uri": "https://localhost:8080/",
          "height": 85
        },
        "outputId": "d4a82d88-9919-4f02-a1e5-8e539739daef"
      },
      "source": [
        "model.state_dict()"
      ],
      "execution_count": 44,
      "outputs": [
        {
          "output_type": "execute_result",
          "data": {
            "text/plain": [
              "OrderedDict([('linear.weight',\n",
              "              tensor([[ 0.0916,  0.0020,  0.1306, -0.1942,  0.0030,  0.1127, -0.0668,  0.2376,\n",
              "                       -0.1172]])),\n",
              "             ('linear.bias', tensor([0.1039]))])"
            ]
          },
          "metadata": {
            "tags": []
          },
          "execution_count": 44
        }
      ]
    },
    {
      "cell_type": "markdown",
      "metadata": {
        "id": "c5s5EZ9ZSyiU",
        "colab_type": "text"
      },
      "source": [
        "To load the model weights, it is just a matter of creating a new object of the class `TitanicModel`, and use the `.load_state_dict` method."
      ]
    },
    {
      "cell_type": "code",
      "metadata": {
        "id": "JdO_yZSkTFES",
        "colab_type": "code",
        "colab": {
          "base_uri": "https://localhost:8080/",
          "height": 85
        },
        "outputId": "586f8698-038f-4939-ac54-c537817be00d"
      },
      "source": [
        "model2 = TitanicModel()\n",
        "model2.load_state_dict(torch.load('titanic_linear_regresion_model.pth'))\n",
        "model2.state_dict()"
      ],
      "execution_count": 45,
      "outputs": [
        {
          "output_type": "execute_result",
          "data": {
            "text/plain": [
              "OrderedDict([('linear.weight',\n",
              "              tensor([[ 0.0916,  0.0020,  0.1306, -0.1942,  0.0030,  0.1127, -0.0668,  0.2376,\n",
              "                       -0.1172]])),\n",
              "             ('linear.bias', tensor([0.1039]))])"
            ]
          },
          "metadata": {
            "tags": []
          },
          "execution_count": 45
        }
      ]
    },
    {
      "cell_type": "markdown",
      "metadata": {
        "id": "A7T42_ZsTTd9",
        "colab_type": "text"
      },
      "source": [
        "Finally, it is possible to verify that the model has the same loss than in the validation test above"
      ]
    },
    {
      "cell_type": "code",
      "metadata": {
        "id": "ZzNZy3sxTFbt",
        "colab_type": "code",
        "colab": {
          "base_uri": "https://localhost:8080/",
          "height": 34
        },
        "outputId": "df349f3d-5dae-48c2-88f3-3e9b846f3b10"
      },
      "source": [
        "test_loader = DataLoader(val_dataset, batch_size=32)\n",
        "result = evaluate(model2, test_loader)\n",
        "result"
      ],
      "execution_count": 46,
      "outputs": [
        {
          "output_type": "execute_result",
          "data": {
            "text/plain": [
              "{'val_loss': 0.33652156591415405}"
            ]
          },
          "metadata": {
            "tags": []
          },
          "execution_count": 46
        }
      ]
    },
    {
      "cell_type": "markdown",
      "metadata": {
        "id": "I3S4qGBpYZIR",
        "colab_type": "text"
      },
      "source": [
        "#### Step 9: Commit and Upload the Notebook"
      ]
    },
    {
      "cell_type": "code",
      "metadata": {
        "id": "1t-p25y0Yjv8",
        "colab_type": "code",
        "colab": {
          "base_uri": "https://localhost:8080/",
          "height": 34
        },
        "outputId": "b78867b2-ee75-49bd-d70e-f80bd918d167"
      },
      "source": [
        "jovian.commit(project='titanic-linear-regression', environment=None, outputs=['titanic_linear_regresion_model.pth'])"
      ],
      "execution_count": 47,
      "outputs": [
        {
          "output_type": "stream",
          "text": [
            "\u001b[31m[jovian] Error: Failed to detect Jupyter notebook or Python script. Skipping..\u001b[0m\n"
          ],
          "name": "stderr"
        }
      ]
    },
    {
      "cell_type": "markdown",
      "metadata": {
        "id": "gBrVv3MrVEFx",
        "colab_type": "text"
      },
      "source": [
        "## Summary and Further Reading\n",
        "\n",
        "In this notebook a simple linear regression model created in PyTorch is preseted. The list of the topics covered is the following:\n",
        "\n",
        "\n",
        "\n",
        "*   Download and access data using Pandas\n",
        "*   Creation of Linear Models with PyTorch\n",
        "*   How to fit and train the linear model\n",
        "*   How to test the trained model\n",
        "*   How to save the model for further usage\n",
        "\n",
        "There is a fairly amount of data and code to experiment in this notebook. It is open for the readers to modify it and play arround with the model.\n",
        "\n",
        "Finally, here are some references and links for further reading:\n",
        "\n",
        "\n",
        "\n",
        "1.   Free Course - [Deep Learning with PyTorch](https://www.youtube.com/playlist?list=LLaHOyHOvwkyZZw6dTitN1Vw) \n",
        "2.   Learn more about [Linear Regression](https://en.wikipedia.org/wiki/Linear_regression#:~:text=In%20statistics%2C%20linear%20regression%20is,is%20called%20simple%20linear%20regression.)\n",
        "3.   Course Notes - [CS109: Intro to Probability for Computer Scientists](https://web.stanford.edu/class/archive/cs/cs109/cs109.1166/)\n",
        "4.   [A Titanic Probability](https://web.stanford.edu/class/archive/cs/cs109/cs109.1166/problem12.html)\n",
        "\n",
        "\n",
        "\n"
      ]
    }
  ]
}