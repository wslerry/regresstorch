{
 "cells": [
  {
   "cell_type": "code",
   "execution_count": 1,
   "metadata": {},
   "outputs": [
    {
     "name": "stdout",
     "output_type": "stream",
     "text": [
      "usage: train.py [-h] [--epoch EPOCH] [--batch-size BATCH_SIZE] [--input INPUT]\n",
      "                [--var1 VAR1] [--var2 VAR2] [--adam] [--device DEVICE]\n",
      "\n",
      "optional arguments:\n",
      "  -h, --help            show this help message and exit\n",
      "  --epoch EPOCH         epoch value\n",
      "  --batch-size BATCH_SIZE\n",
      "  --input INPUT         *.csv path\n",
      "  --var1 VAR1           independent variable\n",
      "  --var2 VAR2           dependent variable\n",
      "  --adam                use adam optimizer\n",
      "  --device DEVICE       device id (i.e. 0 or 0,1 or cpu)\n"
     ]
    }
   ],
   "source": [
    "!python train.py --help"
   ]
  },
  {
   "cell_type": "code",
   "execution_count": null,
   "metadata": {},
   "outputs": [],
   "source": []
  }
 ],
 "metadata": {
  "kernelspec": {
   "display_name": "Python 3",
   "language": "python",
   "name": "python3"
  },
  "language_info": {
   "codemirror_mode": {
    "name": "ipython",
    "version": 3
   },
   "file_extension": ".py",
   "mimetype": "text/x-python",
   "name": "python",
   "nbconvert_exporter": "python",
   "pygments_lexer": "ipython3",
   "version": "3.7.7"
  }
 },
 "nbformat": 4,
 "nbformat_minor": 4
}
